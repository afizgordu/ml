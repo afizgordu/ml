{
  "nbformat": 4,
  "nbformat_minor": 0,
  "metadata": {
    "colab": {
      "name": "08-functions.ipynb",
      "provenance": [],
      "collapsed_sections": [],
      "authorship_tag": "ABX9TyPhVZBwsTipT/h04tVmshjK",
      "include_colab_link": true
    },
    "kernelspec": {
      "name": "python3",
      "display_name": "Python 3"
    }
  },
  "cells": [
    {
      "cell_type": "markdown",
      "metadata": {
        "id": "view-in-github",
        "colab_type": "text"
      },
      "source": [
        "<a href=\"https://colab.research.google.com/github/cevheri/ml/blob/master/08_functions.ipynb\" target=\"_parent\"><img src=\"https://colab.research.google.com/assets/colab-badge.svg\" alt=\"Open In Colab\"/></a>"
      ]
    },
    {
      "cell_type": "markdown",
      "metadata": {
        "id": "052Km4HCz3di",
        "colab_type": "text"
      },
      "source": [
        "# define a function\n"
      ]
    },
    {
      "cell_type": "code",
      "metadata": {
        "id": "UAwOyskgzgKC",
        "colab_type": "code",
        "colab": {
          "base_uri": "https://localhost:8080/",
          "height": 34
        },
        "outputId": "4c60f78f-e8e9-4367-8c05-531b626aac5c"
      },
      "source": [
        "def greet_user():\n",
        "  \"\"\"Display a simple greeting.\"\"\"\n",
        "\n",
        "  print(\"Hello\")\n",
        "\n",
        "\n",
        "greet_user()"
      ],
      "execution_count": 1,
      "outputs": [
        {
          "output_type": "stream",
          "text": [
            "Hello\n"
          ],
          "name": "stdout"
        }
      ]
    },
    {
      "cell_type": "markdown",
      "metadata": {
        "id": "3H05O1-l0j7a",
        "colab_type": "text"
      },
      "source": [
        "# arguments"
      ]
    },
    {
      "cell_type": "code",
      "metadata": {
        "id": "j9VK0DdY0T9i",
        "colab_type": "code",
        "colab": {
          "base_uri": "https://localhost:8080/",
          "height": 34
        },
        "outputId": "ddb57b89-ba3c-475a-d5b9-3a6998c62079"
      },
      "source": [
        "def greet_user(username):\n",
        "  \"\"\"Display a simple greeting.\"\"\"\n",
        "\n",
        "  print(\"Hello \" + username.title() + \"!\")\n",
        "\n",
        "\n",
        "greet_user(\"cevheri\")"
      ],
      "execution_count": 2,
      "outputs": [
        {
          "output_type": "stream",
          "text": [
            "Hello Cevheri!\n"
          ],
          "name": "stdout"
        }
      ]
    },
    {
      "cell_type": "code",
      "metadata": {
        "id": "IkaLLKmM0lrS",
        "colab_type": "code",
        "colab": {
          "base_uri": "https://localhost:8080/",
          "height": 34
        },
        "outputId": "48118318-06f7-4c1f-9eb4-b50f0ca3faa8"
      },
      "source": [
        "# keyword arguments\n",
        "\n",
        "def greet_user(username):\n",
        "  \"\"\"Display a simple greeting.\"\"\"\n",
        "\n",
        "  print(\"Hello \" + username.title() + \"!\")\n",
        "\n",
        "\n",
        "greet_user(username=\"cevheri\")"
      ],
      "execution_count": 3,
      "outputs": [
        {
          "output_type": "stream",
          "text": [
            "Hello Cevheri!\n"
          ],
          "name": "stdout"
        }
      ]
    },
    {
      "cell_type": "code",
      "metadata": {
        "id": "o_gvbIg6027Z",
        "colab_type": "code",
        "colab": {
          "base_uri": "https://localhost:8080/",
          "height": 34
        },
        "outputId": "2e8e5143-6bd9-42f7-a617-5ace8cfdcde8"
      },
      "source": [
        "# default values\n",
        "\n",
        "def greet_user(username=\"cevheri\"):\n",
        "  \"\"\"Display a simple greeting.\"\"\"\n",
        "\n",
        "  print(\"Hello \" + username.title() + \"!\")\n",
        "\n",
        "\n",
        "greet_user()"
      ],
      "execution_count": 4,
      "outputs": [
        {
          "output_type": "stream",
          "text": [
            "Hello Cevheri!\n"
          ],
          "name": "stdout"
        }
      ]
    },
    {
      "cell_type": "markdown",
      "metadata": {
        "id": "geEHd9HD1Wea",
        "colab_type": "text"
      },
      "source": [
        "# return value"
      ]
    },
    {
      "cell_type": "code",
      "metadata": {
        "id": "xcGC7Aml1Y1J",
        "colab_type": "code",
        "colab": {
          "base_uri": "https://localhost:8080/",
          "height": 34
        },
        "outputId": "31774f55-75be-4be3-fea3-c6b63dac0e97"
      },
      "source": [
        "def greet_user(username=\"cevheri\"):\n",
        "  \"\"\"Display a simple greeting.\"\"\" \n",
        "\n",
        "  return \"Hello \" + username.title() + \"!\"\n",
        "\n",
        "\n",
        "print(greet_user())"
      ],
      "execution_count": 5,
      "outputs": [
        {
          "output_type": "stream",
          "text": [
            "Hello Cevheri!\n"
          ],
          "name": "stdout"
        }
      ]
    },
    {
      "cell_type": "code",
      "metadata": {
        "id": "yuSsdPQFH4EC",
        "colab_type": "code",
        "colab": {
          "base_uri": "https://localhost:8080/",
          "height": 34
        },
        "outputId": "a4694578-0c35-436c-b4aa-762fb0aef273"
      },
      "source": [
        "def build_person(first_name, last_name):\n",
        "  \"\"\"Return a dictionary of information about a person.\"\"\"\n",
        "\n",
        "  person = {\"first\": first_name, \"last\": last_name}\n",
        "  return person\n",
        "\n",
        "musician = build_person(\"jimi\", \"hendrix\")\n",
        "print(musician)\n",
        "\n"
      ],
      "execution_count": 1,
      "outputs": [
        {
          "output_type": "stream",
          "text": [
            "{'first': 'jimi', 'last': 'hendrix'}\n"
          ],
          "name": "stdout"
        }
      ]
    },
    {
      "cell_type": "markdown",
      "metadata": {
        "id": "Rw7TVHfevl-n",
        "colab_type": "text"
      },
      "source": [
        "# loop"
      ]
    },
    {
      "cell_type": "code",
      "metadata": {
        "id": "y__AKhm7vng-",
        "colab_type": "code",
        "colab": {
          "base_uri": "https://localhost:8080/",
          "height": 102
        },
        "outputId": "64e6a795-28ad-42d8-9644-0a784713f4c7"
      },
      "source": [
        "def get_formatted_name(first_name, last_name):\n",
        "  \"\"\"Return a full name, neatly formatted.\"\"\"\n",
        "  full_name = first_name + ' ' + last_name\n",
        "  return full_name.title()\n",
        "\n",
        "\n",
        "i= 0\n",
        "while i<5: \n",
        "  print(get_formatted_name(\"zehra\", \"naz\"), flush=True)\n",
        "  i+=1\n",
        "  #print(\"9\"*10)"
      ],
      "execution_count": 1,
      "outputs": [
        {
          "output_type": "stream",
          "text": [
            "Zehra Naz\n",
            "Zehra Naz\n",
            "Zehra Naz\n",
            "Zehra Naz\n",
            "Zehra Naz\n"
          ],
          "name": "stdout"
        }
      ]
    }
  ]
}