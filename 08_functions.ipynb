{
  "nbformat": 4,
  "nbformat_minor": 0,
  "metadata": {
    "colab": {
      "name": "08-functions.ipynb",
      "provenance": [],
      "collapsed_sections": [],
      "authorship_tag": "ABX9TyNPDdEPgWg4QJAX/xDyQLVu",
      "include_colab_link": true
    },
    "kernelspec": {
      "name": "python3",
      "display_name": "Python 3"
    }
  },
  "cells": [
    {
      "cell_type": "markdown",
      "metadata": {
        "id": "view-in-github",
        "colab_type": "text"
      },
      "source": [
        "<a href=\"https://colab.research.google.com/github/cevheri/ml/blob/master/08_functions.ipynb\" target=\"_parent\"><img src=\"https://colab.research.google.com/assets/colab-badge.svg\" alt=\"Open In Colab\"/></a>"
      ]
    },
    {
      "cell_type": "markdown",
      "metadata": {
        "id": "052Km4HCz3di",
        "colab_type": "text"
      },
      "source": [
        "# define a function\n"
      ]
    },
    {
      "cell_type": "code",
      "metadata": {
        "id": "UAwOyskgzgKC",
        "colab_type": "code",
        "colab": {
          "base_uri": "https://localhost:8080/",
          "height": 34
        },
        "outputId": "4c60f78f-e8e9-4367-8c05-531b626aac5c"
      },
      "source": [
        "def greet_user():\n",
        "  \"\"\"Display a simple greeting.\"\"\"\n",
        "\n",
        "  print(\"Hello\")\n",
        "\n",
        "\n",
        "greet_user()"
      ],
      "execution_count": null,
      "outputs": [
        {
          "output_type": "stream",
          "text": [
            "Hello\n"
          ],
          "name": "stdout"
        }
      ]
    },
    {
      "cell_type": "markdown",
      "metadata": {
        "id": "3H05O1-l0j7a",
        "colab_type": "text"
      },
      "source": [
        "# arguments"
      ]
    },
    {
      "cell_type": "code",
      "metadata": {
        "id": "j9VK0DdY0T9i",
        "colab_type": "code",
        "colab": {
          "base_uri": "https://localhost:8080/",
          "height": 34
        },
        "outputId": "ddb57b89-ba3c-475a-d5b9-3a6998c62079"
      },
      "source": [
        "def greet_user(username):\n",
        "  \"\"\"Display a simple greeting.\"\"\"\n",
        "\n",
        "  print(\"Hello \" + username.title() + \"!\")\n",
        "\n",
        "\n",
        "greet_user(\"cevheri\")"
      ],
      "execution_count": null,
      "outputs": [
        {
          "output_type": "stream",
          "text": [
            "Hello Cevheri!\n"
          ],
          "name": "stdout"
        }
      ]
    },
    {
      "cell_type": "code",
      "metadata": {
        "id": "IkaLLKmM0lrS",
        "colab_type": "code",
        "colab": {
          "base_uri": "https://localhost:8080/",
          "height": 34
        },
        "outputId": "48118318-06f7-4c1f-9eb4-b50f0ca3faa8"
      },
      "source": [
        "# keyword arguments\n",
        "\n",
        "def greet_user(username):\n",
        "  \"\"\"Display a simple greeting.\"\"\"\n",
        "\n",
        "  print(\"Hello \" + username.title() + \"!\")\n",
        "\n",
        "\n",
        "greet_user(username=\"cevheri\")"
      ],
      "execution_count": null,
      "outputs": [
        {
          "output_type": "stream",
          "text": [
            "Hello Cevheri!\n"
          ],
          "name": "stdout"
        }
      ]
    },
    {
      "cell_type": "code",
      "metadata": {
        "id": "o_gvbIg6027Z",
        "colab_type": "code",
        "colab": {
          "base_uri": "https://localhost:8080/",
          "height": 34
        },
        "outputId": "2e8e5143-6bd9-42f7-a617-5ace8cfdcde8"
      },
      "source": [
        "# default values\n",
        "\n",
        "def greet_user(username=\"cevheri\"):\n",
        "  \"\"\"Display a simple greeting.\"\"\"\n",
        "\n",
        "  print(\"Hello \" + username.title() + \"!\")\n",
        "\n",
        "\n",
        "greet_user()"
      ],
      "execution_count": null,
      "outputs": [
        {
          "output_type": "stream",
          "text": [
            "Hello Cevheri!\n"
          ],
          "name": "stdout"
        }
      ]
    },
    {
      "cell_type": "markdown",
      "metadata": {
        "id": "geEHd9HD1Wea",
        "colab_type": "text"
      },
      "source": [
        "# return value"
      ]
    },
    {
      "cell_type": "code",
      "metadata": {
        "id": "xcGC7Aml1Y1J",
        "colab_type": "code",
        "colab": {
          "base_uri": "https://localhost:8080/",
          "height": 34
        },
        "outputId": "31774f55-75be-4be3-fea3-c6b63dac0e97"
      },
      "source": [
        "def greet_user(username=\"cevheri\"):\n",
        "  \"\"\"Display a simple greeting.\"\"\" \n",
        "\n",
        "  return \"Hello \" + username.title() + \"!\"\n",
        "\n",
        "\n",
        "print(greet_user())"
      ],
      "execution_count": null,
      "outputs": [
        {
          "output_type": "stream",
          "text": [
            "Hello Cevheri!\n"
          ],
          "name": "stdout"
        }
      ]
    },
    {
      "cell_type": "code",
      "metadata": {
        "id": "yuSsdPQFH4EC",
        "colab_type": "code",
        "colab": {
          "base_uri": "https://localhost:8080/",
          "height": 34
        },
        "outputId": "a4694578-0c35-436c-b4aa-762fb0aef273"
      },
      "source": [
        "def build_person(first_name, last_name):\n",
        "  \"\"\"Return a dictionary of information about a person.\"\"\"\n",
        "\n",
        "  person = {\"first\": first_name, \"last\": last_name}\n",
        "  return person\n",
        "\n",
        "musician = build_person(\"jimi\", \"hendrix\")\n",
        "print(musician)\n",
        "\n"
      ],
      "execution_count": null,
      "outputs": [
        {
          "output_type": "stream",
          "text": [
            "{'first': 'jimi', 'last': 'hendrix'}\n"
          ],
          "name": "stdout"
        }
      ]
    },
    {
      "cell_type": "markdown",
      "metadata": {
        "id": "Rw7TVHfevl-n",
        "colab_type": "text"
      },
      "source": [
        "# loop"
      ]
    },
    {
      "cell_type": "code",
      "metadata": {
        "id": "y__AKhm7vng-",
        "colab_type": "code",
        "colab": {
          "base_uri": "https://localhost:8080/",
          "height": 102
        },
        "outputId": "64e6a795-28ad-42d8-9644-0a784713f4c7"
      },
      "source": [
        "def get_formatted_name(first_name, last_name):\n",
        "  \"\"\"Return a full name, neatly formatted.\"\"\"\n",
        "  full_name = first_name + ' ' + last_name\n",
        "  return full_name.title()\n",
        "\n",
        "\n",
        "i= 0\n",
        "while i<5: \n",
        "  print(get_formatted_name(\"zehra\", \"naz\"), flush=True)\n",
        "  i+=1\n",
        "  #print(\"9\"*10)"
      ],
      "execution_count": null,
      "outputs": [
        {
          "output_type": "stream",
          "text": [
            "Zehra Naz\n",
            "Zehra Naz\n",
            "Zehra Naz\n",
            "Zehra Naz\n",
            "Zehra Naz\n"
          ],
          "name": "stdout"
        }
      ]
    },
    {
      "cell_type": "markdown",
      "metadata": {
        "id": "3eWPZLR63dZ-",
        "colab_type": "text"
      },
      "source": [
        "# list"
      ]
    },
    {
      "cell_type": "code",
      "metadata": {
        "id": "a8XrZH9T3gGB",
        "colab_type": "code",
        "colab": {
          "base_uri": "https://localhost:8080/",
          "height": 68
        },
        "outputId": "d1bc9ef9-5638-453a-bf75-aa5cefb4a588"
      },
      "source": [
        "def greet_users(names):\n",
        "  \"\"\"Print a simple greeting to each user in the list.\"\"\"\n",
        "\n",
        "  for name in names:\n",
        "    msg = \"Hello, \" + name.title() + \"!\"\n",
        "    print(msg) \n",
        "\n",
        "\n",
        "usernames = ['hannah', 'ty', 'margot'] \n",
        "greet_users(usernames) "
      ],
      "execution_count": null,
      "outputs": [
        {
          "output_type": "stream",
          "text": [
            "Hello, Hannah!\n",
            "Hello, Ty!\n",
            "Hello, Margot!\n"
          ],
          "name": "stdout"
        }
      ]
    },
    {
      "cell_type": "markdown",
      "metadata": {
        "id": "Iv3yT6PH5TSv",
        "colab_type": "text"
      },
      "source": [
        "# arguments"
      ]
    },
    {
      "cell_type": "code",
      "metadata": {
        "id": "OD9yDeKR5X2I",
        "colab_type": "code",
        "colab": {
          "base_uri": "https://localhost:8080/",
          "height": 51
        },
        "outputId": "837c94fc-f951-4d13-f39e-7c3267180d9c"
      },
      "source": [
        "def make_pizza(*toppings):\n",
        "  \"\"\"Print the list of toppings that have been requested\"\"\"\n",
        "\n",
        "  print(toppings)\n",
        "\n",
        "\n",
        "# one argument\n",
        "make_pizza(\"pepperone\")\n",
        "\n",
        "# many arguments\n",
        "make_pizza('mushrooms', 'green peppers', 'extra cheese')"
      ],
      "execution_count": null,
      "outputs": [
        {
          "output_type": "stream",
          "text": [
            "('pepperone',)\n",
            "('mushrooms', 'green peppers', 'extra cheese')\n"
          ],
          "name": "stdout"
        }
      ]
    },
    {
      "cell_type": "code",
      "metadata": {
        "id": "83CLC64R6fba",
        "colab_type": "code",
        "colab": {
          "base_uri": "https://localhost:8080/",
          "height": 85
        },
        "outputId": "ffe63c64-4819-433e-8178-a62e3d7428df"
      },
      "source": [
        "def make_pizza(*toppings):\n",
        "  \"\"\"Print the list of toppings that have been requested\"\"\"\n",
        "\n",
        "  for topping in toppings:\n",
        "    print(\"- \"+ topping)\n",
        "\n",
        "\n",
        "# one argument\n",
        "make_pizza(\"pepperone\")\n",
        "\n",
        "# many arguments\n",
        "make_pizza('mushrooms', 'green peppers', 'extra cheese')"
      ],
      "execution_count": null,
      "outputs": [
        {
          "output_type": "stream",
          "text": [
            "- pepperone\n",
            "- mushrooms\n",
            "- green peppers\n",
            "- extra cheese\n"
          ],
          "name": "stdout"
        }
      ]
    },
    {
      "cell_type": "code",
      "metadata": {
        "id": "ZVa7zDfM7WK_",
        "colab_type": "code",
        "colab": {
          "base_uri": "https://localhost:8080/",
          "height": 153
        },
        "outputId": "b113ea74-f838-479c-906d-6dc32f80998a"
      },
      "source": [
        "def make_pizza(size, *toppings):\n",
        "  \"\"\"Summarize the pizza ve are about to maket.\"\"\"\n",
        "\n",
        "  print(\"\\nMaking a \"+ str(size) + \"-inc pizza with the following toppings:\")\n",
        "  for topping in toppings:\n",
        "    print(\"- \" + topping)\n",
        "\n",
        "\n",
        "make_pizza(16, \"pepperoni\")\n",
        "\n",
        "# many arguments\n",
        "make_pizza(12, 'mushrooms', 'green peppers', 'extra cheese')"
      ],
      "execution_count": null,
      "outputs": [
        {
          "output_type": "stream",
          "text": [
            "\n",
            "Making a 16-inc pizza with the following toppings:\n",
            "- pepperoni\n",
            "\n",
            "Making a 12-inc pizza with the following toppings:\n",
            "- mushrooms\n",
            "- green peppers\n",
            "- extra cheese\n"
          ],
          "name": "stdout"
        }
      ]
    },
    {
      "cell_type": "markdown",
      "metadata": {
        "id": "ak8h2fIr87E1",
        "colab_type": "text"
      },
      "source": [
        "# keyword argument"
      ]
    },
    {
      "cell_type": "code",
      "metadata": {
        "id": "jCZSmoe989zs",
        "colab_type": "code",
        "colab": {
          "base_uri": "https://localhost:8080/",
          "height": 34
        },
        "outputId": "87140472-47ef-4c4f-ae14-4d43af0c156f"
      },
      "source": [
        "def build_profile(first, last, **user_info):\n",
        "    \"\"\"Build a dictionary containing everything we know about a user.\"\"\"\n",
        "    profile = {}\n",
        "    profile['first_name'] = first\n",
        "    profile['last_name'] = last\n",
        "    for key, value in user_info.items():\n",
        "        profile[key] = value\n",
        "        return profile\n",
        "\n",
        "\n",
        "user_profile = build_profile('albert', 'einstein', location='princeton', field='physics')\n",
        "print(user_profile)"
      ],
      "execution_count": null,
      "outputs": [
        {
          "output_type": "stream",
          "text": [
            "{'first_name': 'albert', 'last_name': 'einstein', 'location': 'princeton'}\n"
          ],
          "name": "stdout"
        }
      ]
    },
    {
      "cell_type": "markdown",
      "metadata": {
        "id": "nwlSuGFIHb5Z",
        "colab_type": "text"
      },
      "source": [
        "# import "
      ]
    },
    {
      "cell_type": "code",
      "metadata": {
        "id": "4UXLbivhHd36",
        "colab_type": "code",
        "colab": {}
      },
      "source": [
        "def make_pizza(size, *toppings):\n",
        "  \"\"\"Summarize the pizza we are about to make.\"\"\"\n",
        "  print(\"\\nMaking a \" + str(size) +\"-inch pizza with the following toppings:\")\n",
        "  for topping in toppings:\n",
        "    print(\"- \" + topping)\n",
        "\n",
        "\n",
        "\n",
        "\n",
        "# module_name.function_name() \n",
        "\n",
        "# import pizza\n",
        "# pizza.make_pizza(16, 'pepperoni') \n",
        "# pizza.make_pizza(12, 'mushrooms', 'green peppers', 'extra cheese') \n",
        "\n",
        "# from pizza import make_pizza \n",
        "# make_pizza(16, 'pepperoni') \n",
        "# make_pizza(12, 'mushrooms', 'green peppers', 'extra cheese') \n",
        "\n",
        "\n",
        "# from pizza import make_pizza as mp\n",
        "# mp(16, 'pepperoni') \n",
        "# mp(12, 'mushrooms', 'green peppers', 'extra cheese') \n",
        "\n",
        "\n",
        "# import pizza as p\n",
        "# p.make_pizza(16, 'pepperoni') \n",
        "# p.make_pizza(12, 'mushrooms', 'green peppers', 'extra cheese') \n",
        "\n",
        "\n",
        "# from pizza import * \n",
        "# make_pizza(16, 'pepperoni') \n",
        "# make_pizza(12, 'mushrooms', 'green peppers', 'extra cheese') "
      ],
      "execution_count": 10,
      "outputs": []
    }
  ]
}