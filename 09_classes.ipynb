{
  "nbformat": 4,
  "nbformat_minor": 0,
  "metadata": {
    "colab": {
      "name": "09-classes.ipynb",
      "provenance": [],
      "collapsed_sections": [],
      "authorship_tag": "ABX9TyMlp3hK9LA7T5ruY1ZdF/xJ",
      "include_colab_link": true
    },
    "kernelspec": {
      "name": "python3",
      "display_name": "Python 3"
    }
  },
  "cells": [
    {
      "cell_type": "markdown",
      "metadata": {
        "id": "view-in-github",
        "colab_type": "text"
      },
      "source": [
        "<a href=\"https://colab.research.google.com/github/cevheri/ml/blob/master/09_classes.ipynb\" target=\"_parent\"><img src=\"https://colab.research.google.com/assets/colab-badge.svg\" alt=\"Open In Colab\"/></a>"
      ]
    },
    {
      "cell_type": "markdown",
      "metadata": {
        "id": "jvPLVAZALA7h",
        "colab_type": "text"
      },
      "source": [
        "# create class"
      ]
    },
    {
      "cell_type": "code",
      "metadata": {
        "id": "Py6NKAzLKCkD",
        "colab_type": "code",
        "colab": {
          "base_uri": "https://localhost:8080/",
          "height": 170
        },
        "outputId": "695d00af-a89d-44e5-da9a-7d679d7dbb80"
      },
      "source": [
        "class Dog():\n",
        "  \"\"\"A simple attempt to model a dog.\"\"\"\n",
        "\n",
        "  def __init__(self, name, age):\n",
        "    \"\"\"Initialize name and age attributes.\"\"\"\n",
        "  \n",
        "    self.name = name\n",
        "    self.age = age\n",
        "\n",
        "  def sit(self):\n",
        "    \"\"\"Simulate a dog sitting in response to a command.\"\"\"\n",
        "    print(self.name.title() + \" is now sitting.\")\n",
        " \n",
        "  def roll_over(self):\n",
        "    \"\"\"Simulate rolling over in response to a command.\"\"\"\n",
        "    print(self.name.title() + \" rolled over!\")\n",
        "\n",
        "\n",
        "# call\n",
        "\n",
        "my_dog = Dog(\"willie\", 6)\n",
        "print(\"My dog's name is \" + my_dog.name.title() + \"!\")\n",
        "print(\"My dog is \" + str(my_dog.age) + \" years old!\")\n",
        "\n",
        "my_dog.sit()\n",
        "my_dog.roll_over()\n",
        "\n",
        "print()\n",
        "# create multiple instance\n",
        "your_dog = Dog(\"lucy\", 3)\n",
        "print(\"My dog's name is \" + your_dog.name.title() + \"!\")\n",
        "print(\"My dog is \" + str(your_dog.age) + \" years old!\")\n",
        "\n",
        "your_dog.sit()\n",
        "your_dog.roll_over()\n"
      ],
      "execution_count": 9,
      "outputs": [
        {
          "output_type": "stream",
          "text": [
            "My dog's name is Willie!\n",
            "My dog is 6 years old!\n",
            "Willie is now sitting.\n",
            "Willie rolled over!\n",
            "\n",
            "My dog's name is Lucy!\n",
            "My dog is 3 years old!\n",
            "Lucy is now sitting.\n",
            "Lucy rolled over!\n"
          ],
          "name": "stdout"
        }
      ]
    },
    {
      "cell_type": "markdown",
      "metadata": {
        "id": "nU1hJwvaNczM",
        "colab_type": "text"
      },
      "source": [
        "# class and instance"
      ]
    },
    {
      "cell_type": "code",
      "metadata": {
        "id": "hH2Y8CZ-Ne9y",
        "colab_type": "code",
        "colab": {
          "base_uri": "https://localhost:8080/",
          "height": 85
        },
        "outputId": "5fef8d40-9e48-4bd2-962e-2ae79feea878"
      },
      "source": [
        "class Car():\n",
        "  \"\"\"A simple attempt to represent a car.\"\"\"\n",
        "\n",
        "\n",
        "  def __init__(self, make, model, year):\n",
        "    \"\"\"Initialize attributes to describe a car.\"\"\"\n",
        "    self.make = make\n",
        "    self.model = model\n",
        "    self.year = year\n",
        "    self.odometer_reading = 0\n",
        "\n",
        "\n",
        "  def get_descriptive_name(self):\n",
        "    \"\"\"Return a neatly formatted descriptive name.\"\"\"\n",
        "    long_name = str(self.year) + ' ' + self.make + ' ' + self.model\n",
        "    return long_name.title()\n",
        "\n",
        "  def update_odometer(self, mileage):\n",
        "    \"\"\"\n",
        "    Set the odometer reading to the given value.\n",
        "    Reject the change if it attempts to roll the odometer back.\n",
        "    \"\"\"\n",
        "    if mileage >= self.odometer_reading:\n",
        "      self.odometer_reading = mileage\n",
        "    else:\n",
        "      raise Exception(\"You can't roll back an odometer !\")\n",
        "\n",
        "  def read_odometer(self):\n",
        "    \"\"\"Print a statement showing the car's mileage.\"\"\"\n",
        "    print(\"This car has \" + str(self.odometer_reading) + \" miles on it.\")\n",
        "\n",
        "my_new_car = Car('audi', 'a4', 2016)\n",
        "print(my_new_car.get_descriptive_name())\n",
        "\n",
        "my_new_car.read_odometer()\n",
        "\n",
        "my_new_car.odometer_reading = 23\n",
        "my_new_car.read_odometer()\n",
        "\n",
        "my_new_car.update_odometer(300)\n",
        "my_new_car.read_odometer()"
      ],
      "execution_count": 22,
      "outputs": [
        {
          "output_type": "stream",
          "text": [
            "2016 Audi A4\n",
            "This car has 0 miles on it.\n",
            "This car has 23 miles on it.\n",
            "This car has 300 miles on it.\n"
          ],
          "name": "stdout"
        }
      ]
    },
    {
      "cell_type": "markdown",
      "metadata": {
        "id": "20SgUO_PQBOR",
        "colab_type": "text"
      },
      "source": [
        "# inheritance"
      ]
    },
    {
      "cell_type": "code",
      "metadata": {
        "id": "vsvF4UM7QDjb",
        "colab_type": "code",
        "colab": {}
      },
      "source": [
        ""
      ],
      "execution_count": null,
      "outputs": []
    }
  ]
}