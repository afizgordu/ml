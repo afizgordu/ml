{
  "nbformat": 4,
  "nbformat_minor": 0,
  "metadata": {
    "colab": {
      "name": "first-work.ipynb",
      "provenance": [],
      "collapsed_sections": [],
      "authorship_tag": "ABX9TyMpgRqAnPGUZi/tbEe5oTXU",
      "include_colab_link": true
    },
    "kernelspec": {
      "name": "python3",
      "display_name": "Python 3"
    }
  },
  "cells": [
    {
      "cell_type": "markdown",
      "metadata": {
        "id": "view-in-github",
        "colab_type": "text"
      },
      "source": [
        "<a href=\"https://colab.research.google.com/github/cevheri/ml/blob/master/first_work.ipynb\" target=\"_parent\"><img src=\"https://colab.research.google.com/assets/colab-badge.svg\" alt=\"Open In Colab\"/></a>"
      ]
    },
    {
      "cell_type": "markdown",
      "metadata": {
        "id": "BaYkwpooauIQ",
        "colab_type": "text"
      },
      "source": [
        "First "
      ]
    },
    {
      "cell_type": "code",
      "metadata": {
        "id": "BEiyiS9TbGdN",
        "colab_type": "code",
        "colab": {
          "base_uri": "https://localhost:8080/",
          "height": 34
        },
        "outputId": "f42744cb-ec16-4ed9-b7fb-e0233c95bf28"
      },
      "source": [
        "print(\"First Work\")"
      ],
      "execution_count": 1,
      "outputs": [
        {
          "output_type": "stream",
          "text": [
            "First Work\n"
          ],
          "name": "stdout"
        }
      ]
    }
  ]
}