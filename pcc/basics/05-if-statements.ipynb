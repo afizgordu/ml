{
  "nbformat": 4,
  "nbformat_minor": 0,
  "metadata": {
    "colab": {
      "name": "02-python-beginner.ipynb",
      "provenance": [],
      "collapsed_sections": [
        "iG80tgElcrzN",
        "QB2jWhp-c6Sx"
      ],
      "toc_visible": true,
      "authorship_tag": "ABX9TyP+ljb4kOG0kDEHZ5/3MdNl",
      "include_colab_link": true
    },
    "kernelspec": {
      "name": "python3",
      "display_name": "Python 3"
    }
  },
  "cells": [
    {
      "cell_type": "markdown",
      "metadata": {
        "id": "view-in-github",
        "colab_type": "text"
      },
      "source": [
        "<a href=\"https://colab.research.google.com/github/cevheri/ml/blob/master/02_python_beginner.ipynb\" target=\"_parent\"><img src=\"https://colab.research.google.com/assets/colab-badge.svg\" alt=\"Open In Colab\"/></a>"
      ]
    },
    {
      "cell_type": "markdown",
      "metadata": {
        "id": "K8fITbWDb2gO",
        "colab_type": "text"
      },
      "source": [
        "# IF Statements"
      ]
    },
    {
      "cell_type": "code",
      "metadata": {
        "id": "hcfPnUQRbrYI",
        "colab_type": "code",
        "colab": {
          "base_uri": "https://localhost:8080/",
          "height": 85
        },
        "outputId": "0bb35f9d-fdf7-4482-d6b9-f42083f0ca7c"
      },
      "source": [
        "cars = ['audi', 'bmw', 'subaru', 'toyota']\n",
        "for car in cars:\n",
        "  if car == 'bmw':\n",
        "    print(car.upper())\n",
        "  else:\n",
        "    print(car.title())"
      ],
      "execution_count": null,
      "outputs": [
        {
          "output_type": "stream",
          "text": [
            "Audi\n",
            "BMW\n",
            "Subaru\n",
            "Toyota\n"
          ],
          "name": "stdout"
        }
      ]
    },
    {
      "cell_type": "code",
      "metadata": {
        "id": "rUieKF4_cPON",
        "colab_type": "code",
        "colab": {
          "base_uri": "https://localhost:8080/",
          "height": 85
        },
        "outputId": "2562543a-646a-4fdf-8db9-aba8f7a3e320"
      },
      "source": [
        "car = 'bmw'\n",
        "print(car == 'bmw')\n",
        "# True\n",
        "\n",
        "car = 'bmw'\n",
        "print(car == 'audi')\n",
        "# False\n",
        "\n",
        "car = 'bmw'\n",
        "print(car == 'BMW')\n",
        "# False\n",
        "\n",
        "car = 'bmw'\n",
        "print(car.upper() == 'BMW')\n",
        "# True"
      ],
      "execution_count": null,
      "outputs": [
        {
          "output_type": "stream",
          "text": [
            "True\n",
            "False\n",
            "False\n",
            "True\n"
          ],
          "name": "stdout"
        }
      ]
    },
    {
      "cell_type": "markdown",
      "metadata": {
        "id": "iG80tgElcrzN",
        "colab_type": "text"
      },
      "source": [
        "## Inequality (!=)"
      ]
    },
    {
      "cell_type": "code",
      "metadata": {
        "id": "NAUSWzxGctLt",
        "colab_type": "code",
        "colab": {
          "base_uri": "https://localhost:8080/",
          "height": 34
        },
        "outputId": "d419fa47-dfdb-406d-a1c1-3743089c0887"
      },
      "source": [
        "requested_topping = 'mushrooms'\n",
        "if requested_topping != 'anchovies':\n",
        "  print(\"Hold the anchovies!\")"
      ],
      "execution_count": null,
      "outputs": [
        {
          "output_type": "stream",
          "text": [
            "Hold the anchovies!\n"
          ],
          "name": "stdout"
        }
      ]
    },
    {
      "cell_type": "markdown",
      "metadata": {
        "id": "QB2jWhp-c6Sx",
        "colab_type": "text"
      },
      "source": [
        "## Numerical"
      ]
    },
    {
      "cell_type": "code",
      "metadata": {
        "id": "6Wi3BvSfc8ju",
        "colab_type": "code",
        "colab": {
          "base_uri": "https://localhost:8080/",
          "height": 34
        },
        "outputId": "92cef031-0fd5-4c96-abf8-d33c73bb4ca6"
      },
      "source": [
        "age = 18\n",
        "print(age == 18)"
      ],
      "execution_count": null,
      "outputs": [
        {
          "output_type": "stream",
          "text": [
            "True\n"
          ],
          "name": "stdout"
        }
      ]
    },
    {
      "cell_type": "code",
      "metadata": {
        "id": "P_zNJ0y4dBuO",
        "colab_type": "code",
        "colab": {
          "base_uri": "https://localhost:8080/",
          "height": 34
        },
        "outputId": "de061e23-2b1c-40b2-b0d5-3dc5ab3605e4"
      },
      "source": [
        "answer = 17\n",
        "\n",
        "if answer != 42:\n",
        "  print(\"That is not the correct answer. Please try again!\")"
      ],
      "execution_count": null,
      "outputs": [
        {
          "output_type": "stream",
          "text": [
            "That is not the correct answer. Please try again!\n"
          ],
          "name": "stdout"
        }
      ]
    },
    {
      "cell_type": "code",
      "metadata": {
        "id": "03PvOHSVdP9J",
        "colab_type": "code",
        "colab": {
          "base_uri": "https://localhost:8080/",
          "height": 85
        },
        "outputId": "17bd99ea-816e-4864-e576-646f5bc03005"
      },
      "source": [
        "age = 19\n",
        "print(age < 21)\n",
        "# True\n",
        "\n",
        "print(age <= 21)\n",
        "# True\n",
        "\n",
        "print(age > 21)\n",
        "# False\n",
        "\n",
        "print(age >= 21)\n",
        "# False\n"
      ],
      "execution_count": null,
      "outputs": [
        {
          "output_type": "stream",
          "text": [
            "True\n",
            "True\n",
            "False\n",
            "False\n"
          ],
          "name": "stdout"
        }
      ]
    },
    {
      "cell_type": "markdown",
      "metadata": {
        "id": "N3qelYBbdVmH",
        "colab_type": "text"
      },
      "source": [
        "### Multiple Conditions"
      ]
    },
    {
      "cell_type": "markdown",
      "metadata": {
        "id": "TYg6kvkpd8AM",
        "colab_type": "text"
      },
      "source": [
        "#### and"
      ]
    },
    {
      "cell_type": "code",
      "metadata": {
        "id": "-pDbu6PUdYs_",
        "colab_type": "code",
        "colab": {
          "base_uri": "https://localhost:8080/",
          "height": 68
        },
        "outputId": "86c3da09-b009-421f-896f-6050ffbea533"
      },
      "source": [
        "age_0 = 22\n",
        "age_1 = 18\n",
        "print(age_0 >= 21 and age_1 >= 21)\n",
        "\n",
        "\n",
        "age_1 = 22\n",
        "print(age_0 >= 21 and age_1 >= 21)\n",
        "\n",
        "print((age_0 >= 21) and (age_1 >= 21))"
      ],
      "execution_count": null,
      "outputs": [
        {
          "output_type": "stream",
          "text": [
            "False\n",
            "True\n",
            "True\n"
          ],
          "name": "stdout"
        }
      ]
    },
    {
      "cell_type": "markdown",
      "metadata": {
        "id": "Bgi2M3yod--s",
        "colab_type": "text"
      },
      "source": [
        "#### or"
      ]
    },
    {
      "cell_type": "code",
      "metadata": {
        "id": "niKYLEA4eAuU",
        "colab_type": "code",
        "colab": {
          "base_uri": "https://localhost:8080/",
          "height": 51
        },
        "outputId": "4432643c-a2f2-4b3e-8318-afc92d95ab4c"
      },
      "source": [
        "age_0 = 22\n",
        "age_1 = 18\n",
        "print(age_0 >= 21 or age_1 >= 21)\n",
        "# True\n",
        "\n",
        "age_0 = 18\n",
        "print(age_0 >= 21 or age_1 >= 21)\n",
        "# False"
      ],
      "execution_count": null,
      "outputs": [
        {
          "output_type": "stream",
          "text": [
            "True\n",
            "False\n"
          ],
          "name": "stdout"
        }
      ]
    },
    {
      "cell_type": "markdown",
      "metadata": {
        "id": "GP2usRVdeNqQ",
        "colab_type": "text"
      },
      "source": [
        "## Value "
      ]
    },
    {
      "cell_type": "code",
      "metadata": {
        "id": "5GB0f2hYdf5O",
        "colab_type": "code",
        "colab": {
          "base_uri": "https://localhost:8080/",
          "height": 51
        },
        "outputId": "ae7575cc-b989-47eb-ac72-d898e9794727"
      },
      "source": [
        "requested_toppings = ['mushrooms', 'onions', 'pineapple'] \n",
        "print('mushrooms' in requested_toppings)\n",
        "# True \n",
        "print('pepperoni' in requested_toppings)\n",
        "# False "
      ],
      "execution_count": 1,
      "outputs": [
        {
          "output_type": "stream",
          "text": [
            "True\n",
            "False\n"
          ],
          "name": "stdout"
        }
      ]
    },
    {
      "cell_type": "code",
      "metadata": {
        "id": "OTTyFVJjd229",
        "colab_type": "code",
        "colab": {
          "base_uri": "https://localhost:8080/",
          "height": 34
        },
        "outputId": "c241df84-9d8c-4108-bdc5-b89daa986bb0"
      },
      "source": [
        "banned_users = ['andrew', 'carolina', 'david']\n",
        "user = 'marie'\n",
        "if user not in banned_users:\n",
        "  print(user.title() + \", you can post a response if you wish.\") "
      ],
      "execution_count": 2,
      "outputs": [
        {
          "output_type": "stream",
          "text": [
            "Marie, you can post a response if you wish.\n"
          ],
          "name": "stdout"
        }
      ]
    },
    {
      "cell_type": "markdown",
      "metadata": {
        "id": "pdG1HD79d3xk",
        "colab_type": "text"
      },
      "source": [
        "## Boolean Expressions "
      ]
    },
    {
      "cell_type": "code",
      "metadata": {
        "id": "WuHyYFEUeWUj",
        "colab_type": "code",
        "colab": {}
      },
      "source": [
        "game_active = True\n",
        "can_edit = False "
      ],
      "execution_count": null,
      "outputs": []
    },
    {
      "cell_type": "markdown",
      "metadata": {
        "id": "wt_6ILoLedVO",
        "colab_type": "text"
      },
      "source": [
        "# if-else Statements"
      ]
    },
    {
      "cell_type": "code",
      "metadata": {
        "id": "VvT3W7HFezuk",
        "colab_type": "code",
        "colab": {
          "base_uri": "https://localhost:8080/",
          "height": 51
        },
        "outputId": "4af011e2-7ff0-44b1-b1e8-1074c180ae83"
      },
      "source": [
        "age = 17\n",
        "if age >= 18:\n",
        "\tprint(\"You are old enough to vote!\")\n",
        "\tprint(\"Have you registered to vote yet?\")\n",
        "else:\n",
        "\tprint(\"Sorry, you are too young to vote.\")\n",
        "\tprint(\"Please register to vote as soon as you turn 18!\") "
      ],
      "execution_count": 3,
      "outputs": [
        {
          "output_type": "stream",
          "text": [
            "Sorry, you are too young to vote.\n",
            "Please register to vote as soon as you turn 18!\n"
          ],
          "name": "stdout"
        }
      ]
    },
    {
      "cell_type": "markdown",
      "metadata": {
        "id": "N-a6ZCYUe4qa",
        "colab_type": "text"
      },
      "source": [
        "# if-elif-else"
      ]
    },
    {
      "cell_type": "code",
      "metadata": {
        "id": "abmAa32ue6Dn",
        "colab_type": "code",
        "colab": {
          "base_uri": "https://localhost:8080/",
          "height": 34
        },
        "outputId": "8ec5c6b5-c5a3-498a-ab27-30f9895b8dc6"
      },
      "source": [
        "age = 12\n",
        "if age < 4:\n",
        "\tprint(\"Your admission cost is $0.\")\n",
        "elif age < 18:\n",
        "\tprint(\"Your admission cost is $5.\")\n",
        "else:\n",
        "\tprint(\"Your admission cost is $10.\") "
      ],
      "execution_count": 4,
      "outputs": [
        {
          "output_type": "stream",
          "text": [
            "Your admission cost is $5.\n"
          ],
          "name": "stdout"
        }
      ]
    },
    {
      "cell_type": "markdown",
      "metadata": {
        "id": "t2DH17_WfozG",
        "colab_type": "text"
      },
      "source": [
        "# if statements with lists"
      ]
    },
    {
      "cell_type": "code",
      "metadata": {
        "id": "ZWh9TeqwfqHk",
        "colab_type": "code",
        "colab": {
          "base_uri": "https://localhost:8080/",
          "height": 102
        },
        "outputId": "3483f181-7f7e-4e76-9310-aa25f69f990d"
      },
      "source": [
        "requested_toppings = ['mushrooms', 'green peppers', 'extra cheese']\n",
        "for requested_topping in requested_toppings:\n",
        "\tif requested_topping == 'green peppers':\n",
        "\t\tprint(\"Sorry, we are out of green peppers right now.\")\n",
        "\telse:\n",
        "\t\tprint(\"Adding \" + requested_topping + \".\")\n",
        "print(\"\\nFinished making your pizza!\")\n"
      ],
      "execution_count": 5,
      "outputs": [
        {
          "output_type": "stream",
          "text": [
            "Adding mushrooms.\n",
            "Sorry, we are out of green peppers right now.\n",
            "Adding extra cheese.\n",
            "\n",
            "Finished making your pizza!\n"
          ],
          "name": "stdout"
        }
      ]
    },
    {
      "cell_type": "markdown",
      "metadata": {
        "id": "wyxkA1PBgG9A",
        "colab_type": "text"
      },
      "source": [
        "# That a List Is Not Empty "
      ]
    },
    {
      "cell_type": "code",
      "metadata": {
        "id": "JS3EdiiBgITv",
        "colab_type": "code",
        "colab": {
          "base_uri": "https://localhost:8080/",
          "height": 34
        },
        "outputId": "3d05b6a1-0b96-4594-bb48-1a2f4e9beb4c"
      },
      "source": [
        "requested_toppings = [] \n",
        "if requested_toppings:\n",
        "  for requested_topping in requested_toppings:\n",
        "    print(\"Adding \" + requested_topping + \".\")\n",
        "  print(\"\\nFinished making your pizza!\")\n",
        "else:\n",
        "  print(\"Are you sure you want a plain pizza?\") "
      ],
      "execution_count": 6,
      "outputs": [
        {
          "output_type": "stream",
          "text": [
            "Are you sure you want a plain pizza?\n"
          ],
          "name": "stdout"
        }
      ]
    },
    {
      "cell_type": "markdown",
      "metadata": {
        "id": "j_tjJClIgafi",
        "colab_type": "text"
      },
      "source": [
        "# Using Multiple Lists "
      ]
    },
    {
      "cell_type": "code",
      "metadata": {
        "id": "CntmapADgb6C",
        "colab_type": "code",
        "colab": {
          "base_uri": "https://localhost:8080/",
          "height": 102
        },
        "outputId": "b1c41a56-04a6-4fad-8eca-db9a553bcd3f"
      },
      "source": [
        "available_toppings = ['mushrooms', 'olives', 'green peppers','pepperoni', 'pineapple', 'extra cheese']\n",
        "requested_toppings = ['mushrooms', 'french fries', 'extra cheese']\n",
        "\n",
        "for requested_topping in requested_toppings:\n",
        "\tif requested_topping in available_toppings:\n",
        "\t\tprint(\"Adding \" + requested_topping + \".\")\n",
        "\telse:\n",
        "\t  print(\"Sorry, we don't have \" + requested_topping + \".\")\n",
        "\n",
        "print(\"\\nFinished making your pizza!\") "
      ],
      "execution_count": 8,
      "outputs": [
        {
          "output_type": "stream",
          "text": [
            "Adding mushrooms.\n",
            "Sorry, we don't have french fries.\n",
            "Adding extra cheese.\n",
            "\n",
            "Finished making your pizza!\n"
          ],
          "name": "stdout"
        }
      ]
    }
  ]
}