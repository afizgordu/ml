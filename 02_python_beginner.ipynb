{
  "nbformat": 4,
  "nbformat_minor": 0,
  "metadata": {
    "colab": {
      "name": "02-python-beginner.ipynb",
      "provenance": [],
      "toc_visible": true,
      "authorship_tag": "ABX9TyNLZQ0R+vshLLLaw1VLxgqC",
      "include_colab_link": true
    },
    "kernelspec": {
      "name": "python3",
      "display_name": "Python 3"
    }
  },
  "cells": [
    {
      "cell_type": "markdown",
      "metadata": {
        "id": "view-in-github",
        "colab_type": "text"
      },
      "source": [
        "<a href=\"https://colab.research.google.com/github/cevheri/ml/blob/master/02_python_beginner.ipynb\" target=\"_parent\"><img src=\"https://colab.research.google.com/assets/colab-badge.svg\" alt=\"Open In Colab\"/></a>"
      ]
    },
    {
      "cell_type": "markdown",
      "metadata": {
        "id": "K8fITbWDb2gO",
        "colab_type": "text"
      },
      "source": [
        "# IF Statements"
      ]
    },
    {
      "cell_type": "code",
      "metadata": {
        "id": "hcfPnUQRbrYI",
        "colab_type": "code",
        "colab": {
          "base_uri": "https://localhost:8080/",
          "height": 85
        },
        "outputId": "0bb35f9d-fdf7-4482-d6b9-f42083f0ca7c"
      },
      "source": [
        "cars = ['audi', 'bmw', 'subaru', 'toyota']\n",
        "for car in cars:\n",
        "  if car == 'bmw':\n",
        "    print(car.upper())\n",
        "  else:\n",
        "    print(car.title())"
      ],
      "execution_count": null,
      "outputs": [
        {
          "output_type": "stream",
          "text": [
            "Audi\n",
            "BMW\n",
            "Subaru\n",
            "Toyota\n"
          ],
          "name": "stdout"
        }
      ]
    },
    {
      "cell_type": "code",
      "metadata": {
        "id": "rUieKF4_cPON",
        "colab_type": "code",
        "colab": {
          "base_uri": "https://localhost:8080/",
          "height": 85
        },
        "outputId": "2562543a-646a-4fdf-8db9-aba8f7a3e320"
      },
      "source": [
        "car = 'bmw'\n",
        "print(car == 'bmw')\n",
        "# True\n",
        "\n",
        "car = 'bmw'\n",
        "print(car == 'audi')\n",
        "# False\n",
        "\n",
        "car = 'bmw'\n",
        "print(car == 'BMW')\n",
        "# False\n",
        "\n",
        "car = 'bmw'\n",
        "print(car.upper() == 'BMW')\n",
        "# True"
      ],
      "execution_count": null,
      "outputs": [
        {
          "output_type": "stream",
          "text": [
            "True\n",
            "False\n",
            "False\n",
            "True\n"
          ],
          "name": "stdout"
        }
      ]
    },
    {
      "cell_type": "markdown",
      "metadata": {
        "id": "iG80tgElcrzN",
        "colab_type": "text"
      },
      "source": [
        "## Inequality (!=)"
      ]
    },
    {
      "cell_type": "code",
      "metadata": {
        "id": "NAUSWzxGctLt",
        "colab_type": "code",
        "colab": {
          "base_uri": "https://localhost:8080/",
          "height": 34
        },
        "outputId": "d419fa47-dfdb-406d-a1c1-3743089c0887"
      },
      "source": [
        "requested_topping = 'mushrooms'\n",
        "if requested_topping != 'anchovies':\n",
        "  print(\"Hold the anchovies!\")"
      ],
      "execution_count": null,
      "outputs": [
        {
          "output_type": "stream",
          "text": [
            "Hold the anchovies!\n"
          ],
          "name": "stdout"
        }
      ]
    },
    {
      "cell_type": "markdown",
      "metadata": {
        "id": "QB2jWhp-c6Sx",
        "colab_type": "text"
      },
      "source": [
        "## Numerical"
      ]
    },
    {
      "cell_type": "code",
      "metadata": {
        "id": "6Wi3BvSfc8ju",
        "colab_type": "code",
        "colab": {
          "base_uri": "https://localhost:8080/",
          "height": 34
        },
        "outputId": "92cef031-0fd5-4c96-abf8-d33c73bb4ca6"
      },
      "source": [
        "age = 18\n",
        "print(age == 18)"
      ],
      "execution_count": null,
      "outputs": [
        {
          "output_type": "stream",
          "text": [
            "True\n"
          ],
          "name": "stdout"
        }
      ]
    },
    {
      "cell_type": "code",
      "metadata": {
        "id": "P_zNJ0y4dBuO",
        "colab_type": "code",
        "colab": {
          "base_uri": "https://localhost:8080/",
          "height": 34
        },
        "outputId": "de061e23-2b1c-40b2-b0d5-3dc5ab3605e4"
      },
      "source": [
        "answer = 17\n",
        "\n",
        "if answer != 42:\n",
        "  print(\"That is not the correct answer. Please try again!\")"
      ],
      "execution_count": null,
      "outputs": [
        {
          "output_type": "stream",
          "text": [
            "That is not the correct answer. Please try again!\n"
          ],
          "name": "stdout"
        }
      ]
    },
    {
      "cell_type": "code",
      "metadata": {
        "id": "03PvOHSVdP9J",
        "colab_type": "code",
        "colab": {
          "base_uri": "https://localhost:8080/",
          "height": 85
        },
        "outputId": "17bd99ea-816e-4864-e576-646f5bc03005"
      },
      "source": [
        "age = 19\n",
        "print(age < 21)\n",
        "# True\n",
        "\n",
        "print(age <= 21)\n",
        "# True\n",
        "\n",
        "print(age > 21)\n",
        "# False\n",
        "\n",
        "print(age >= 21)\n",
        "# False\n"
      ],
      "execution_count": null,
      "outputs": [
        {
          "output_type": "stream",
          "text": [
            "True\n",
            "True\n",
            "False\n",
            "False\n"
          ],
          "name": "stdout"
        }
      ]
    },
    {
      "cell_type": "markdown",
      "metadata": {
        "id": "N3qelYBbdVmH",
        "colab_type": "text"
      },
      "source": [
        "### Multiple Conditions"
      ]
    },
    {
      "cell_type": "markdown",
      "metadata": {
        "id": "TYg6kvkpd8AM",
        "colab_type": "text"
      },
      "source": [
        "#### and"
      ]
    },
    {
      "cell_type": "code",
      "metadata": {
        "id": "-pDbu6PUdYs_",
        "colab_type": "code",
        "colab": {
          "base_uri": "https://localhost:8080/",
          "height": 68
        },
        "outputId": "86c3da09-b009-421f-896f-6050ffbea533"
      },
      "source": [
        "age_0 = 22\n",
        "age_1 = 18\n",
        "print(age_0 >= 21 and age_1 >= 21)\n",
        "\n",
        "\n",
        "age_1 = 22\n",
        "print(age_0 >= 21 and age_1 >= 21)\n",
        "\n",
        "print((age_0 >= 21) and (age_1 >= 21))"
      ],
      "execution_count": null,
      "outputs": [
        {
          "output_type": "stream",
          "text": [
            "False\n",
            "True\n",
            "True\n"
          ],
          "name": "stdout"
        }
      ]
    },
    {
      "cell_type": "markdown",
      "metadata": {
        "id": "Bgi2M3yod--s",
        "colab_type": "text"
      },
      "source": [
        "#### or"
      ]
    },
    {
      "cell_type": "code",
      "metadata": {
        "id": "niKYLEA4eAuU",
        "colab_type": "code",
        "colab": {
          "base_uri": "https://localhost:8080/",
          "height": 51
        },
        "outputId": "4432643c-a2f2-4b3e-8318-afc92d95ab4c"
      },
      "source": [
        "age_0 = 22\n",
        "age_1 = 18\n",
        "print(age_0 >= 21 or age_1 >= 21)\n",
        "# True\n",
        "\n",
        "age_0 = 18\n",
        "print(age_0 >= 21 or age_1 >= 21)\n",
        "# False"
      ],
      "execution_count": null,
      "outputs": [
        {
          "output_type": "stream",
          "text": [
            "True\n",
            "False\n"
          ],
          "name": "stdout"
        }
      ]
    },
    {
      "cell_type": "markdown",
      "metadata": {
        "id": "GP2usRVdeNqQ",
        "colab_type": "text"
      },
      "source": [
        "## Value "
      ]
    }
  ]
}