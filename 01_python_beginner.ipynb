{
  "nbformat": 4,
  "nbformat_minor": 0,
  "metadata": {
    "colab": {
      "name": "01-python-beginner.ipynb",
      "provenance": [],
      "collapsed_sections": [],
      "toc_visible": true,
      "authorship_tag": "ABX9TyMWkpu+t51yx2hqN2q6fbKw",
      "include_colab_link": true
    },
    "kernelspec": {
      "name": "python3",
      "display_name": "Python 3"
    }
  },
  "cells": [
    {
      "cell_type": "markdown",
      "metadata": {
        "id": "view-in-github",
        "colab_type": "text"
      },
      "source": [
        "<a href=\"https://colab.research.google.com/github/cevheri/ml/blob/master/01_python_beginner.ipynb\" target=\"_parent\"><img src=\"https://colab.research.google.com/assets/colab-badge.svg\" alt=\"Open In Colab\"/></a>"
      ]
    },
    {
      "cell_type": "markdown",
      "metadata": {
        "id": "_-2zaEygp2MG",
        "colab_type": "text"
      },
      "source": [
        "# Beginner - Python Crash Course\n",
        "\n",
        "*The Zen of Python, by Tim Peters*\n",
        "\n",
        "EN\n",
        "* Beautiful is better than ugly.\n",
        "* Explicit is better than implicit.\n",
        "* Simple is better than complex.\n",
        "* Complex is better than complicated.\n",
        "* Flat is better than nested.\n",
        "* Sparse is better than dense.\n",
        "* Readability counts.\n",
        "* Special cases aren't special enough to break the rules.\n",
        "* Although practicality beats purity.\n",
        "* Errors should never pass silently.\n",
        "* Unless explicitly silenced.\n",
        "* In the face of ambiguity, refuse the temptation to guess.\n",
        "* There should be one-- and preferably only one --obvious way to do it.\n",
        "* Although that way may not be obvious at first unless you're Dutch.\n",
        "* Now is better than never.\n",
        "* Although never is often better than *right* now.\n",
        "* If the implementation is hard to explain, it's a bad idea.\n",
        "* If the implementation is easy to explain, it may be a good idea.\n",
        "* Namespaces are one honking great idea -- let's do more of those!\n",
        "\n",
        "---\n",
        "\n",
        "TR\n",
        "* Güzel, çirkin olmaktan iyidir.\n",
        "* Açık, örtük olmaktan daha iyidir.\n",
        "* Basit, karmaşıktan daha iyidir.\n",
        "* Karmaşık, karmaşık olmaktan daha iyidir.\n",
        "* Düz, iç içe olmaktan daha iyidir.\n",
        "* Seyrek yoğun olandan daha iyidir.\n",
        "* Okunabilirlik önemlidir.\n",
        "* Özel durumlar kuralları çiğnemek için yeterince özel değildir.\n",
        "* Pratiklik saflığı yense de.\n",
        "* Hatalar asla sessizce geçmemelidir.\n",
        "* Açıkça susturulmadıkça.\n",
        "* Belirsizlik karşısında, tahmin etme cazibesini reddedin.\n",
        "* Bunu yapmanın bir - ve tercihen sadece bir - açık yolu olmalıdır.\n",
        "* Hollandalı değilseniz bu yol ilk bakışta bariz olmayabilir.\n",
        "* Şimdi hiç olmadığı kadar iyi.\n",
        "* Yine de hiçbir zaman şu anda * şu andan * daha iyi değildir.\n",
        "* Uygulamanın açıklanması zorsa, bu kötü bir fikirdir.\n",
        "* Uygulamanın açıklanması kolaysa, iyi bir fikir olabilir.\n",
        "* İsim alanları, harika bir fikir - hadi onlardan daha fazlasını yapalım!\n",
        "\n",
        "ref: https://ehmatthes.github.io/pcc/"
      ]
    },
    {
      "cell_type": "markdown",
      "metadata": {
        "id": "jeIcKpWFDM9q",
        "colab_type": "text"
      },
      "source": [
        "## Review of Python\n",
        "\n",
        "---\n",
        "\n",
        "* Data Types\n",
        "* For Loops\n",
        "* While Loops\n",
        "* Operators"
      ]
    },
    {
      "cell_type": "markdown",
      "metadata": {
        "id": "gXE0-v7_DfpQ",
        "colab_type": "text"
      },
      "source": [
        "## Python Major Rules\n",
        "\n",
        "---\n",
        "\n",
        "* and\n",
        "* As\n",
        "* Assert\n",
        "* Async\n",
        "* Await\n",
        "* Break\n",
        "* Class\n",
        "* Continue\n",
        "* Def\n",
        "* Del\n",
        "* Elif\n",
        "\n",
        "* Else\n",
        "* Except\n",
        "* Exec\n",
        "* False\n",
        "* Finally\n",
        "* For\n",
        "* From\n",
        "* Global\n",
        "* If\n",
        "* Import\n",
        "* In\n",
        "* is\n",
        "\n",
        "* Lambda\n",
        "* None\n",
        "* Nonlocal\n",
        "* Not\n",
        "* Or\n",
        "* Pass\n",
        "* Print\n",
        "* Raise\n",
        "* Return\n",
        "* True\n",
        "* Try\n",
        "* While\n",
        "* With\n",
        "* yield"
      ]
    },
    {
      "cell_type": "markdown",
      "metadata": {
        "id": "b9l2lcEnEJ5_",
        "colab_type": "text"
      },
      "source": [
        "## The follow data types exist:\n",
        "* String, str\n",
        "* Integer, int\n",
        "* Float, float\n",
        "* Lists, list\n",
        "* Tuples, tuple\n",
        "* Sets, set\n",
        "* Dictionary, dict"
      ]
    },
    {
      "cell_type": "markdown",
      "metadata": {
        "id": "9bO44uRH2U9V",
        "colab_type": "text"
      },
      "source": [
        "# Variables"
      ]
    },
    {
      "cell_type": "markdown",
      "metadata": {
        "id": "Zejmw4-rRGyu",
        "colab_type": "text"
      },
      "source": [
        "## Strings"
      ]
    },
    {
      "cell_type": "code",
      "metadata": {
        "id": "n0vSAfzQRtwU",
        "colab_type": "code",
        "colab": {
          "base_uri": "https://localhost:8080/",
          "height": 69
        },
        "outputId": "d74efa0f-f5c6-4d5a-cd18-e7f6e97e19c9"
      },
      "source": [
        "print(\"This is a string.\")\n",
        "print('This is also a string.')\n",
        "'I told my friend, \"Python is my favorite language!\"'\n",
        "\"The language 'Python' is named after Monty Python, not the snake.\"\n",
        "\"One of Python's strengths is its diverse and supportive community.\""
      ],
      "execution_count": 1,
      "outputs": [
        {
          "output_type": "stream",
          "text": [
            "This is a string.\n",
            "This is also a string.\n"
          ],
          "name": "stdout"
        },
        {
          "output_type": "execute_result",
          "data": {
            "application/vnd.google.colaboratory.intrinsic+json": {
              "type": "string"
            },
            "text/plain": [
              "\"One of Python's strengths is its diverse and supportive community.\""
            ]
          },
          "metadata": {
            "tags": []
          },
          "execution_count": 1
        }
      ]
    },
    {
      "cell_type": "markdown",
      "metadata": {
        "id": "I33CnC6R2maX",
        "colab_type": "text"
      },
      "source": [
        "### Title"
      ]
    },
    {
      "cell_type": "code",
      "metadata": {
        "id": "OZ0sbob7l6SM",
        "colab_type": "code",
        "colab": {
          "base_uri": "https://localhost:8080/",
          "height": 34
        },
        "outputId": "3091cd01-a4d5-4eb9-9f63-ca1a021deace"
      },
      "source": [
        "name = \"cevheri python\"\n",
        "print(name.title())"
      ],
      "execution_count": 2,
      "outputs": [
        {
          "output_type": "stream",
          "text": [
            "Cevheri Python\n"
          ],
          "name": "stdout"
        }
      ]
    },
    {
      "cell_type": "markdown",
      "metadata": {
        "id": "1PV_PT_r2yug",
        "colab_type": "text"
      },
      "source": [
        "### upper - lover"
      ]
    },
    {
      "cell_type": "code",
      "metadata": {
        "id": "SYuLShsRmFNh",
        "colab_type": "code",
        "colab": {
          "base_uri": "https://localhost:8080/",
          "height": 51
        },
        "outputId": "ce8bfde1-49b3-42cd-f9d5-0f479ca432d6"
      },
      "source": [
        "name = \"cevheri python\"\n",
        "print(name.upper())\n",
        "print(name.lower())"
      ],
      "execution_count": 3,
      "outputs": [
        {
          "output_type": "stream",
          "text": [
            "CEVHERI PYTHON\n",
            "cevheri python\n"
          ],
          "name": "stdout"
        }
      ]
    },
    {
      "cell_type": "markdown",
      "metadata": {
        "id": "mYz5N43e2-yl",
        "colab_type": "text"
      },
      "source": [
        "### split"
      ]
    },
    {
      "cell_type": "code",
      "metadata": {
        "id": "eTA3fTEdmNFZ",
        "colab_type": "code",
        "colab": {
          "base_uri": "https://localhost:8080/",
          "height": 102
        },
        "outputId": "ba4be509-30ed-4688-a3ad-9b183188be32"
      },
      "source": [
        "name = \"cevheri python\"\n",
        "first_name, last_name = name.split()\n",
        "print(first_name)\n",
        "print(last_name)\n",
        "\n",
        "print(\"Hello \"+first_name.title()+\" \"+last_name.title()+\" !..\")\n",
        "\n",
        "# good\n",
        "print(\"Hello\", first_name.title(), last_name.title(),\"!..\")\n",
        "\n"
      ],
      "execution_count": 5,
      "outputs": [
        {
          "output_type": "stream",
          "text": [
            "cevheri\n",
            "python\n",
            "Hello Cevheri Python !..\n",
            "Hello Cevheri Python !..\n",
            "Hello Cevheri Python !..\n"
          ],
          "name": "stdout"
        }
      ]
    },
    {
      "cell_type": "markdown",
      "metadata": {
        "id": "YJFFq70f3DN-",
        "colab_type": "text"
      },
      "source": [
        "### format"
      ]
    },
    {
      "cell_type": "code",
      "metadata": {
        "id": "fbSvF4DJ3FaD",
        "colab_type": "code",
        "colab": {}
      },
      "source": [
        "# good*2\n",
        "print(\"Hello {} {} !..\".format(first_name.title(), last_name.title()))"
      ],
      "execution_count": null,
      "outputs": []
    },
    {
      "cell_type": "markdown",
      "metadata": {
        "id": "2EgQGFH2pbkg",
        "colab_type": "text"
      },
      "source": [
        "### strip"
      ]
    },
    {
      "cell_type": "code",
      "metadata": {
        "id": "uDAZnOXkpXEq",
        "colab_type": "code",
        "colab": {
          "base_uri": "https://localhost:8080/",
          "height": 68
        },
        "outputId": "11764dac-fc81-4bbc-d388-be2b74e4dbe0"
      },
      "source": [
        "favorite_language = '    python    '\n",
        "\n",
        "print(favorite_language.rstrip())\n",
        "# '     python'\n",
        "\n",
        "print(favorite_language.lstrip())\n",
        "# 'python    '\n",
        "\n",
        "print(favorite_language.strip())\n",
        "# 'python'\n"
      ],
      "execution_count": 10,
      "outputs": [
        {
          "output_type": "stream",
          "text": [
            "    python\n",
            "python    \n",
            "python\n"
          ],
          "name": "stdout"
        }
      ]
    },
    {
      "cell_type": "markdown",
      "metadata": {
        "id": "_WsAlfldu6s6",
        "colab_type": "text"
      },
      "source": [
        "## Numbers\n"
      ]
    },
    {
      "cell_type": "code",
      "metadata": {
        "id": "dPArS3epu9QC",
        "colab_type": "code",
        "colab": {
          "base_uri": "https://localhost:8080/",
          "height": 136
        },
        "outputId": "3ac56958-47d0-4294-cba2-f4def9d1492c"
      },
      "source": [
        "print(2+3)\n",
        "# 5\n",
        "print(3-2)\n",
        "# 1\n",
        "print(2*3)\n",
        "# 6\n",
        "print(3/2)\n",
        "# 1.5\n",
        "\n",
        "print(3**2)\n",
        "# 9\n",
        "print(3**3)\n",
        "# 27\n",
        "print(10**6)\n",
        "# 1000000\n",
        "\n",
        "\n",
        "print(2 + 3 * 4)\n",
        "# 14\n",
        "print((2 + 3) * 4)\n",
        "# 20\n",
        "\n"
      ],
      "execution_count": 11,
      "outputs": [
        {
          "output_type": "stream",
          "text": [
            "5\n",
            "1\n",
            "6\n",
            "1.5\n",
            "9\n",
            "27\n",
            "1000000\n"
          ],
          "name": "stdout"
        }
      ]
    },
    {
      "cell_type": "markdown",
      "metadata": {
        "id": "O_xnhrigv2dm",
        "colab_type": "text"
      },
      "source": [
        "## Floats"
      ]
    },
    {
      "cell_type": "code",
      "metadata": {
        "id": "2z2DaLLEv3uk",
        "colab_type": "code",
        "colab": {
          "base_uri": "https://localhost:8080/",
          "height": 85
        },
        "outputId": "c8a3cd85-5db5-4022-ea55-f840387d8b9a"
      },
      "source": [
        "print(0.1 + 0.1)\n",
        "# 0.2\n",
        "print(0.2 + 0.2)\n",
        "# 0.4\n",
        "print(2 * 0.1)\n",
        "# 0.2\n",
        "print(2 * 0.2)\n",
        "# 0.4"
      ],
      "execution_count": 12,
      "outputs": [
        {
          "output_type": "stream",
          "text": [
            "0.2\n",
            "0.4\n",
            "0.2\n",
            "0.4\n"
          ],
          "name": "stdout"
        }
      ]
    },
    {
      "cell_type": "markdown",
      "metadata": {
        "id": "rtc0lU5a-h9I",
        "colab_type": "text"
      },
      "source": [
        "### wow !"
      ]
    },
    {
      "cell_type": "code",
      "metadata": {
        "id": "_-H40gArwIbJ",
        "colab_type": "code",
        "colab": {
          "base_uri": "https://localhost:8080/",
          "height": 51
        },
        "outputId": "1a7482e7-edb5-4938-f8d9-f427e9e3de25"
      },
      "source": [
        "print(0.2 + 0.1)\n",
        "# 0.30000000000000004\n",
        "print(3 * 0.1)\n",
        "# 0.30000000000000004"
      ],
      "execution_count": 13,
      "outputs": [
        {
          "output_type": "stream",
          "text": [
            "0.30000000000000004\n",
            "0.30000000000000004\n"
          ],
          "name": "stdout"
        }
      ]
    },
    {
      "cell_type": "code",
      "metadata": {
        "id": "NBPkFKyowbRG",
        "colab_type": "code",
        "colab": {
          "base_uri": "https://localhost:8080/",
          "height": 34
        },
        "outputId": "c6d8103c-68ee-4705-c03b-4d6a1b928ae3"
      },
      "source": [
        "# int to str\n",
        "age = 23\n",
        "message = \"Happy \" + str(age) + \"rd Birthday!\"\n",
        "print(message)"
      ],
      "execution_count": 14,
      "outputs": [
        {
          "output_type": "stream",
          "text": [
            "Happy 23rd Birthday!\n"
          ],
          "name": "stdout"
        }
      ]
    },
    {
      "cell_type": "markdown",
      "metadata": {
        "id": "IhcftMZJ3fDL",
        "colab_type": "text"
      },
      "source": [
        "## List"
      ]
    },
    {
      "cell_type": "code",
      "metadata": {
        "id": "bOJqay0c3gqg",
        "colab_type": "code",
        "colab": {
          "base_uri": "https://localhost:8080/",
          "height": 51
        },
        "outputId": "1c3e3884-9ef9-405c-8419-a96597f754aa"
      },
      "source": [
        "bicycles = ['trek', 'cannondale', 'redline', 'specialized']\n",
        "print(bicycles)"
      ],
      "execution_count": 18,
      "outputs": [
        {
          "output_type": "stream",
          "text": [
            "['trek', 'cannondale', 'redline', 'specialized']\n",
            "Trek\n"
          ],
          "name": "stdout"
        }
      ]
    },
    {
      "cell_type": "code",
      "metadata": {
        "id": "GsWkqrpD5NC2",
        "colab_type": "code",
        "colab": {
          "base_uri": "https://localhost:8080/",
          "height": 34
        },
        "outputId": "27b1b801-6f67-4a23-c828-a0670207ff58"
      },
      "source": [
        "# index start 0... \n",
        "print(bicycles[0].title())"
      ],
      "execution_count": 21,
      "outputs": [
        {
          "output_type": "stream",
          "text": [
            "Trek\n"
          ],
          "name": "stdout"
        }
      ]
    },
    {
      "cell_type": "code",
      "metadata": {
        "id": "8ARQqArf5NHd",
        "colab_type": "code",
        "colab": {
          "base_uri": "https://localhost:8080/",
          "height": 34
        },
        "outputId": "b69bde73-9afa-47e4-973a-d7212ba49d1e"
      },
      "source": [
        "# Last Element\n",
        "print(bicycles[-1])"
      ],
      "execution_count": 20,
      "outputs": [
        {
          "output_type": "stream",
          "text": [
            "specialized\n"
          ],
          "name": "stdout"
        }
      ]
    },
    {
      "cell_type": "markdown",
      "metadata": {
        "id": "vXkr40rs7VUG",
        "colab_type": "text"
      },
      "source": [
        "### modify"
      ]
    },
    {
      "cell_type": "code",
      "metadata": {
        "id": "ffouKUzZ5NFI",
        "colab_type": "code",
        "colab": {
          "base_uri": "https://localhost:8080/",
          "height": 51
        },
        "outputId": "92f422d8-8713-45c0-ba99-baac3eccd18d"
      },
      "source": [
        "motorcycles = ['honda', 'yamaha', 'suzuki']\n",
        "print(motorcycles)\n",
        "\n",
        "motorcycles[0] = \"ducati\"\n",
        "print(motorcycles)"
      ],
      "execution_count": 19,
      "outputs": [
        {
          "output_type": "stream",
          "text": [
            "['honda', 'yamaha', 'suzuki']\n",
            "['ducati', 'yamaha', 'suzuki']\n"
          ],
          "name": "stdout"
        }
      ]
    },
    {
      "cell_type": "markdown",
      "metadata": {
        "id": "XiSUTwCM7o8Q",
        "colab_type": "text"
      },
      "source": [
        "### add - append"
      ]
    },
    {
      "cell_type": "code",
      "metadata": {
        "id": "CNmYIH1j5MyO",
        "colab_type": "code",
        "colab": {
          "base_uri": "https://localhost:8080/",
          "height": 51
        },
        "outputId": "473fb9cd-283d-4aa3-9720-b9b9f22ecba7"
      },
      "source": [
        "motorcycles = ['honda', 'yamaha', 'suzuki']\n",
        "print(motorcycles)\n",
        "\n",
        "motorcycles.append('ducati')\n",
        "print(motorcycles)"
      ],
      "execution_count": 22,
      "outputs": [
        {
          "output_type": "stream",
          "text": [
            "['honda', 'yamaha', 'suzuki']\n",
            "['honda', 'yamaha', 'suzuki', 'ducati']\n"
          ],
          "name": "stdout"
        }
      ]
    },
    {
      "cell_type": "code",
      "metadata": {
        "id": "Y7a2q9Si70sz",
        "colab_type": "code",
        "colab": {
          "base_uri": "https://localhost:8080/",
          "height": 34
        },
        "outputId": "e32ff9c7-3c4e-4b7f-bcdf-00cc265f09d6"
      },
      "source": [
        "motorcycles = []\n",
        "motorcycles.append('honda')\n",
        "motorcycles.append('yamaha')\n",
        "motorcycles.append('suzuki')\n",
        "print(motorcycles)"
      ],
      "execution_count": 23,
      "outputs": [
        {
          "output_type": "stream",
          "text": [
            "['honda', 'yamaha', 'suzuki']\n"
          ],
          "name": "stdout"
        }
      ]
    },
    {
      "cell_type": "markdown",
      "metadata": {
        "id": "8cOTyugR736n",
        "colab_type": "text"
      },
      "source": [
        "### insert element"
      ]
    },
    {
      "cell_type": "code",
      "metadata": {
        "id": "V9Yd0h9-7-DD",
        "colab_type": "code",
        "colab": {
          "base_uri": "https://localhost:8080/",
          "height": 51
        },
        "outputId": "d310b39c-c89f-48f9-9c11-453aa9ea9b6b"
      },
      "source": [
        "motorcycles = ['honda', 'yamaha', 'suzuki']\n",
        "print(motorcycles)\n",
        "\n",
        "motorcycles.insert(0, 'ducati')\n",
        "print(motorcycles)"
      ],
      "execution_count": 25,
      "outputs": [
        {
          "output_type": "stream",
          "text": [
            "['honda', 'yamaha', 'suzuki']\n",
            "['ducati', 'honda', 'yamaha', 'suzuki']\n"
          ],
          "name": "stdout"
        }
      ]
    },
    {
      "cell_type": "markdown",
      "metadata": {
        "id": "LxbytpMt8FOL",
        "colab_type": "text"
      },
      "source": [
        "### delete"
      ]
    },
    {
      "cell_type": "code",
      "metadata": {
        "id": "koegm4QT8KX3",
        "colab_type": "code",
        "colab": {
          "base_uri": "https://localhost:8080/",
          "height": 51
        },
        "outputId": "6a4ec0f2-e937-44f2-a6e8-18c48359210b"
      },
      "source": [
        "motorcycles = ['honda', 'yamaha', 'suzuki']\n",
        "print(motorcycles)\n",
        "\n",
        "del motorcycles[0]\n",
        "print(motorcycles)"
      ],
      "execution_count": 26,
      "outputs": [
        {
          "output_type": "stream",
          "text": [
            "['honda', 'yamaha', 'suzuki']\n",
            "['yamaha', 'suzuki']\n"
          ],
          "name": "stdout"
        }
      ]
    },
    {
      "cell_type": "markdown",
      "metadata": {
        "id": "dC5hDzl68ZhO",
        "colab_type": "text"
      },
      "source": [
        "### pop"
      ]
    },
    {
      "cell_type": "code",
      "metadata": {
        "id": "R36eQR-L8gYX",
        "colab_type": "code",
        "colab": {
          "base_uri": "https://localhost:8080/",
          "height": 68
        },
        "outputId": "f97a1697-6c63-44f9-c2d5-16b2ab3ecb74"
      },
      "source": [
        "motorcycles = ['honda', 'yamaha', 'suzuki']\n",
        "print(motorcycles)\n",
        "\n",
        "popped_motorcycle = motorcycles.pop()\n",
        "print(popped_motorcycle)\n",
        "\n",
        "print(motorcycles)"
      ],
      "execution_count": 28,
      "outputs": [
        {
          "output_type": "stream",
          "text": [
            "['honda', 'yamaha', 'suzuki']\n",
            "suzuki\n",
            "['honda', 'yamaha']\n"
          ],
          "name": "stdout"
        }
      ]
    },
    {
      "cell_type": "markdown",
      "metadata": {
        "id": "D7-8P_qL-GlP",
        "colab_type": "text"
      },
      "source": [
        "### remove"
      ]
    },
    {
      "cell_type": "code",
      "metadata": {
        "id": "e0eVUUx9-ITP",
        "colab_type": "code",
        "colab": {
          "base_uri": "https://localhost:8080/",
          "height": 51
        },
        "outputId": "b467d5eb-2283-4130-adda-dfc6cabf0490"
      },
      "source": [
        "motorcycles = ['honda', 'yamaha', 'suzuki', 'ducati']\n",
        "print(motorcycles)\n",
        "\n",
        "motorcycles.remove('ducati')\n",
        "print(motorcycles)"
      ],
      "execution_count": 29,
      "outputs": [
        {
          "output_type": "stream",
          "text": [
            "['honda', 'yamaha', 'suzuki', 'ducati']\n",
            "['honda', 'yamaha', 'suzuki']\n"
          ],
          "name": "stdout"
        }
      ]
    },
    {
      "cell_type": "markdown",
      "metadata": {
        "id": "2zxGFKDS-n7x",
        "colab_type": "text"
      },
      "source": [
        "### wow !"
      ]
    },
    {
      "cell_type": "code",
      "metadata": {
        "id": "VU7foWIN-UeY",
        "colab_type": "code",
        "colab": {
          "base_uri": "https://localhost:8080/",
          "height": 85
        },
        "outputId": "dd98b110-cfcb-45b9-e0c6-e574adcac966"
      },
      "source": [
        "motorcycles = ['honda', 'yamaha', 'suzuki', 'ducati']\n",
        "print(motorcycles)\n",
        "too_expensive = 'ducati'\n",
        "\n",
        "motorcycles.remove(too_expensive)\n",
        "print(motorcycles)\n",
        "\n",
        "print(\"\\nA \" + too_expensive.title() + \" is too expensive for me.\")"
      ],
      "execution_count": 30,
      "outputs": [
        {
          "output_type": "stream",
          "text": [
            "['honda', 'yamaha', 'suzuki', 'ducati']\n",
            "['honda', 'yamaha', 'suzuki']\n",
            "\n",
            "A Ducati is too expensive for me.\n"
          ],
          "name": "stdout"
        }
      ]
    },
    {
      "cell_type": "markdown",
      "metadata": {
        "id": "MU7sP4Gq_gNj",
        "colab_type": "text"
      },
      "source": [
        "### Organizing a List"
      ]
    },
    {
      "cell_type": "markdown",
      "metadata": {
        "id": "A32oMRen_k01",
        "colab_type": "text"
      },
      "source": [
        "#### sort"
      ]
    },
    {
      "cell_type": "code",
      "metadata": {
        "id": "M09nwtMf_nSa",
        "colab_type": "code",
        "colab": {
          "base_uri": "https://localhost:8080/",
          "height": 34
        },
        "outputId": "aa433598-8d24-4cdb-d653-ca19c3356455"
      },
      "source": [
        "cars = ['bmw', 'audi', 'toyota', 'subaru']\n",
        "cars.sort()\n",
        "print(cars)"
      ],
      "execution_count": 31,
      "outputs": [
        {
          "output_type": "stream",
          "text": [
            "['audi', 'bmw', 'subaru', 'toyota']\n"
          ],
          "name": "stdout"
        }
      ]
    },
    {
      "cell_type": "code",
      "metadata": {
        "id": "eOKfFIlE_uFj",
        "colab_type": "code",
        "colab": {
          "base_uri": "https://localhost:8080/",
          "height": 34
        },
        "outputId": "0229b7ba-7c8c-4907-fffd-72a3595a9905"
      },
      "source": [
        "cars = ['bmw', 'audi', 'toyota', 'subaru']\n",
        "cars.sort(reverse=True)\n",
        "print(cars)"
      ],
      "execution_count": 32,
      "outputs": [
        {
          "output_type": "stream",
          "text": [
            "['toyota', 'subaru', 'bmw', 'audi']\n"
          ],
          "name": "stdout"
        }
      ]
    },
    {
      "cell_type": "markdown",
      "metadata": {
        "id": "eaDSd2BD_yYH",
        "colab_type": "text"
      },
      "source": [
        "#### sorted"
      ]
    },
    {
      "cell_type": "code",
      "metadata": {
        "id": "TWdlqSDe_036",
        "colab_type": "code",
        "colab": {
          "base_uri": "https://localhost:8080/",
          "height": 153
        },
        "outputId": "8039af0c-3f39-4aba-a771-08111365cebb"
      },
      "source": [
        "cars = ['bmw', 'audi', 'toyota', 'subaru']\n",
        "print(\"Here is the original list:\")\n",
        "print(cars)\n",
        "\n",
        "print(\"\\nHere is the sorted list:\")\n",
        "print(sorted(cars))\n",
        "\n",
        "print(\"\\nHere is the original list again:\")\n",
        "print(cars)"
      ],
      "execution_count": 33,
      "outputs": [
        {
          "output_type": "stream",
          "text": [
            "Here is the original list:\n",
            "['bmw', 'audi', 'toyota', 'subaru']\n",
            "\n",
            "Here is the sorted list:\n",
            "['audi', 'bmw', 'subaru', 'toyota']\n",
            "\n",
            "Here is the original list again:\n",
            "['bmw', 'audi', 'toyota', 'subaru']\n"
          ],
          "name": "stdout"
        }
      ]
    },
    {
      "cell_type": "markdown",
      "metadata": {
        "id": "wPmNMIR7AClI",
        "colab_type": "text"
      },
      "source": [
        "#### reverse"
      ]
    },
    {
      "cell_type": "code",
      "metadata": {
        "id": "biDdbn4DAHJw",
        "colab_type": "code",
        "colab": {
          "base_uri": "https://localhost:8080/",
          "height": 51
        },
        "outputId": "71853967-1852-42d6-fb6b-78146f1e0ab4"
      },
      "source": [
        "cars = ['bmw', 'audi', 'toyota', 'subaru']\n",
        "print(cars)\n",
        "\n",
        "cars.reverse()\n",
        "print(cars)"
      ],
      "execution_count": 34,
      "outputs": [
        {
          "output_type": "stream",
          "text": [
            "['bmw', 'audi', 'toyota', 'subaru']\n",
            "['subaru', 'toyota', 'audi', 'bmw']\n"
          ],
          "name": "stdout"
        }
      ]
    },
    {
      "cell_type": "markdown",
      "metadata": {
        "id": "wSVLEt3CAKpV",
        "colab_type": "text"
      },
      "source": [
        "#### len"
      ]
    },
    {
      "cell_type": "code",
      "metadata": {
        "id": "ZgZPD-GNAMEa",
        "colab_type": "code",
        "colab": {
          "base_uri": "https://localhost:8080/",
          "height": 34
        },
        "outputId": "febc4b82-571f-4640-f0ae-4f3c88509c85"
      },
      "source": [
        "cars = ['bmw', 'audi', 'toyota', 'subaru']\n",
        "len(cars)"
      ],
      "execution_count": 35,
      "outputs": [
        {
          "output_type": "execute_result",
          "data": {
            "text/plain": [
              "4"
            ]
          },
          "metadata": {
            "tags": []
          },
          "execution_count": 35
        }
      ]
    },
    {
      "cell_type": "markdown",
      "metadata": {
        "id": "eyjlY4enAULZ",
        "colab_type": "text"
      },
      "source": [
        "### Looping Through List"
      ]
    },
    {
      "cell_type": "code",
      "metadata": {
        "id": "JNFB1JrGAW3g",
        "colab_type": "code",
        "colab": {
          "base_uri": "https://localhost:8080/",
          "height": 68
        },
        "outputId": "e301cedc-0ce6-441c-b78e-57bb5cf41ad3"
      },
      "source": [
        "magicians = ['alice', 'david', 'carolina']\n",
        "for magician in magicians:\n",
        "  print(magician)"
      ],
      "execution_count": 36,
      "outputs": [
        {
          "output_type": "stream",
          "text": [
            "alice\n",
            "david\n",
            "carolina\n"
          ],
          "name": "stdout"
        }
      ]
    },
    {
      "cell_type": "code",
      "metadata": {
        "id": "4CH9J9WdAo25",
        "colab_type": "code",
        "colab": {
          "base_uri": "https://localhost:8080/",
          "height": 68
        },
        "outputId": "8d08c42e-1583-471e-fdc6-050e97c8740c"
      },
      "source": [
        "magicians = ['alice', 'david', 'carolina']\n",
        "for magician in magicians:\n",
        "  print(magician.title() + \", that was a great trick!\")"
      ],
      "execution_count": 37,
      "outputs": [
        {
          "output_type": "stream",
          "text": [
            "Alice, that was a great trick!\n",
            "David, that was a great trick!\n",
            "Carolina, that was a great trick!\n"
          ],
          "name": "stdout"
        }
      ]
    },
    {
      "cell_type": "code",
      "metadata": {
        "id": "1RQdEGWkAumn",
        "colab_type": "code",
        "colab": {
          "base_uri": "https://localhost:8080/",
          "height": 170
        },
        "outputId": "ad1e910e-0a89-437b-cede-a4c0aca5f943"
      },
      "source": [
        "magicians = ['alice', 'david', 'carolina']\n",
        "for magician in magicians:\n",
        "  print(magician.title() + \", that was a great trick!\")\n",
        "  print(\"I can't wait to see your next trick, \" + magician.title() + \".\\n\")"
      ],
      "execution_count": 38,
      "outputs": [
        {
          "output_type": "stream",
          "text": [
            "Alice, that was a great trick!\n",
            "I can't wait to see your next trick, Alice.\n",
            "\n",
            "David, that was a great trick!\n",
            "I can't wait to see your next trick, David.\n",
            "\n",
            "Carolina, that was a great trick!\n",
            "I can't wait to see your next trick, Carolina.\n",
            "\n"
          ],
          "name": "stdout"
        }
      ]
    },
    {
      "cell_type": "code",
      "metadata": {
        "id": "E5rdsQrHA1nQ",
        "colab_type": "code",
        "colab": {
          "base_uri": "https://localhost:8080/",
          "height": 187
        },
        "outputId": "0829dd58-d7ba-4fa2-b37e-0061c5c497c3"
      },
      "source": [
        "magicians = ['alice', 'david', 'carolina']\n",
        "for magician in magicians:\n",
        "  print(magician.title() + \", that was a great trick!\")\n",
        "  print(\"I can't wait to see your next trick, \" + magician.title() + \".\\n\")\n",
        "\n",
        "print(\"Thank you, everyone. That was a great magic show!\")"
      ],
      "execution_count": 39,
      "outputs": [
        {
          "output_type": "stream",
          "text": [
            "Alice, that was a great trick!\n",
            "I can't wait to see your next trick, Alice.\n",
            "\n",
            "David, that was a great trick!\n",
            "I can't wait to see your next trick, David.\n",
            "\n",
            "Carolina, that was a great trick!\n",
            "I can't wait to see your next trick, Carolina.\n",
            "\n",
            "Thank you, everyone. That was a great magic show!\n"
          ],
          "name": "stdout"
        }
      ]
    },
    {
      "cell_type": "code",
      "metadata": {
        "id": "wVkQvPAGWgt3",
        "colab_type": "code",
        "colab": {
          "base_uri": "https://localhost:8080/",
          "height": 102
        },
        "outputId": "660b0afd-2a08-476d-b4f7-6493f66c5ba4"
      },
      "source": [
        "# wrong\n",
        "magicians = ['alice', 'david', 'carolina']\n",
        "for magician in magicians:\n",
        "  print(magician.title() + \", that was a great trick!\")\n",
        "print(\"I can't wait to see your next trick, \" + magician.title() + \".\\n\")"
      ],
      "execution_count": 40,
      "outputs": [
        {
          "output_type": "stream",
          "text": [
            "Alice, that was a great trick!\n",
            "David, that was a great trick!\n",
            "Carolina, that was a great trick!\n",
            "I can't wait to see your next trick, Carolina.\n",
            "\n"
          ],
          "name": "stdout"
        }
      ]
    },
    {
      "cell_type": "code",
      "metadata": {
        "id": "ssTYkaEXWssi",
        "colab_type": "code",
        "colab": {
          "base_uri": "https://localhost:8080/",
          "height": 221
        },
        "outputId": "b9f5e648-83a8-4c8f-e2f3-f028335d886c"
      },
      "source": [
        "# wrong \n",
        "magicians = ['alice', 'david', 'carolina']\n",
        "for magician in magicians:\n",
        "  print(magician.title() + \", that was a great trick!\")\n",
        "  print(\"I can't wait to see your next trick, \" + magician.title() + \".\\n\")\n",
        "\n",
        "  print(\"Thank you everyone, that was a great magic show!\")\n",
        "  "
      ],
      "execution_count": 43,
      "outputs": [
        {
          "output_type": "stream",
          "text": [
            "Alice, that was a great trick!\n",
            "I can't wait to see your next trick, Alice.\n",
            "\n",
            "Thank you everyone, that was a great magic show!\n",
            "David, that was a great trick!\n",
            "I can't wait to see your next trick, David.\n",
            "\n",
            "Thank you everyone, that was a great magic show!\n",
            "Carolina, that was a great trick!\n",
            "I can't wait to see your next trick, Carolina.\n",
            "\n",
            "Thank you everyone, that was a great magic show!\n"
          ],
          "name": "stdout"
        }
      ]
    },
    {
      "cell_type": "markdown",
      "metadata": {
        "id": "f5kV8YJtXIgF",
        "colab_type": "text"
      },
      "source": [
        "### Numeric List"
      ]
    },
    {
      "cell_type": "markdown",
      "metadata": {
        "id": "G_VFQ4CRXM-A",
        "colab_type": "text"
      },
      "source": [
        "#### range"
      ]
    },
    {
      "cell_type": "code",
      "metadata": {
        "id": "L0SYfPtUXLfO",
        "colab_type": "code",
        "colab": {
          "base_uri": "https://localhost:8080/",
          "height": 85
        },
        "outputId": "a4be8d0f-f5b6-43ec-81c2-791b0a71d38d"
      },
      "source": [
        "for value in range(1,5):\n",
        "  print(value)"
      ],
      "execution_count": 44,
      "outputs": [
        {
          "output_type": "stream",
          "text": [
            "1\n",
            "2\n",
            "3\n",
            "4\n"
          ],
          "name": "stdout"
        }
      ]
    },
    {
      "cell_type": "code",
      "metadata": {
        "id": "Q1A3DsO-XZ8J",
        "colab_type": "code",
        "colab": {
          "base_uri": "https://localhost:8080/",
          "height": 34
        },
        "outputId": "138e5c5d-07e0-45ed-907d-ffd9be0b2d4a"
      },
      "source": [
        "numbers = list(range(1,6))\n",
        "print(numbers)"
      ],
      "execution_count": 45,
      "outputs": [
        {
          "output_type": "stream",
          "text": [
            "[1, 2, 3, 4, 5]\n"
          ],
          "name": "stdout"
        }
      ]
    },
    {
      "cell_type": "code",
      "metadata": {
        "id": "jf6_xQcRXdxd",
        "colab_type": "code",
        "colab": {
          "base_uri": "https://localhost:8080/",
          "height": 34
        },
        "outputId": "7d5db45f-1692-4ece-c2af-0bacd116b355"
      },
      "source": [
        "even_numbers = list(range(2,11,2))\n",
        "print(even_numbers)"
      ],
      "execution_count": 46,
      "outputs": [
        {
          "output_type": "stream",
          "text": [
            "[2, 4, 6, 8, 10]\n"
          ],
          "name": "stdout"
        }
      ]
    },
    {
      "cell_type": "code",
      "metadata": {
        "id": "Sh3KlnJLXh0a",
        "colab_type": "code",
        "colab": {
          "base_uri": "https://localhost:8080/",
          "height": 51
        },
        "outputId": "c25a0bb9-d832-4625-f0f3-876457a9c07b"
      },
      "source": [
        "squares = []\n",
        "numbers = list(range(1,11))\n",
        "print(numbers)\n",
        "for value in numbers:\n",
        "  square = value**2\n",
        "  squares.append(square)\n",
        "\n",
        "print(squares)"
      ],
      "execution_count": 48,
      "outputs": [
        {
          "output_type": "stream",
          "text": [
            "[1, 2, 3, 4, 5, 6, 7, 8, 9, 10]\n",
            "[1, 4, 9, 16, 25, 36, 49, 64, 81, 100]\n"
          ],
          "name": "stdout"
        }
      ]
    },
    {
      "cell_type": "markdown",
      "metadata": {
        "id": "f38HbMESYEeK",
        "colab_type": "text"
      },
      "source": [
        "#### simple statistic"
      ]
    },
    {
      "cell_type": "code",
      "metadata": {
        "id": "rwQb-LhjYIdL",
        "colab_type": "code",
        "colab": {
          "base_uri": "https://localhost:8080/",
          "height": 68
        },
        "outputId": "53d2277c-a924-4038-d87c-7c30b6669a67"
      },
      "source": [
        "digits = [1, 2, 3, 4, 5, 6, 7, 8, 9, 0]\n",
        "print(min(digits))\n",
        "# 0\n",
        "print(max(digits))\n",
        "# 9\n",
        "print(sum(digits))\n",
        "# 45"
      ],
      "execution_count": 50,
      "outputs": [
        {
          "output_type": "stream",
          "text": [
            "0\n",
            "9\n",
            "45\n"
          ],
          "name": "stdout"
        }
      ]
    },
    {
      "cell_type": "markdown",
      "metadata": {
        "id": "17qKhKPsYlDl",
        "colab_type": "text"
      },
      "source": [
        "#### List Comprehensions !!! "
      ]
    },
    {
      "cell_type": "code",
      "metadata": {
        "id": "iWHMh5FiYjx3",
        "colab_type": "code",
        "colab": {
          "base_uri": "https://localhost:8080/",
          "height": 34
        },
        "outputId": "c21fe771-2aad-4b37-91bf-45dfbd0477cb"
      },
      "source": [
        "# wow!\n",
        "squares = [value**2 for value in range(1,11)]\n",
        "print(squares)"
      ],
      "execution_count": 51,
      "outputs": [
        {
          "output_type": "stream",
          "text": [
            "[1, 4, 9, 16, 25, 36, 49, 64, 81, 100]\n"
          ],
          "name": "stdout"
        }
      ]
    },
    {
      "cell_type": "markdown",
      "metadata": {
        "id": "BXqo49NfY7ly",
        "colab_type": "text"
      },
      "source": [
        "### Part Of List"
      ]
    },
    {
      "cell_type": "markdown",
      "metadata": {
        "id": "o42sxZuaZCt9",
        "colab_type": "text"
      },
      "source": [
        "#### Slicing a list"
      ]
    },
    {
      "cell_type": "code",
      "metadata": {
        "id": "wp5QNvlcZKMe",
        "colab_type": "code",
        "colab": {
          "base_uri": "https://localhost:8080/",
          "height": 34
        },
        "outputId": "160fbd7d-2321-41b9-d76d-82096e510993"
      },
      "source": [
        "players = ['charles', 'martina', 'michael', 'florence', 'eli']\n",
        "print(players[0:3])"
      ],
      "execution_count": 52,
      "outputs": [
        {
          "output_type": "stream",
          "text": [
            "['charles', 'martina', 'michael']\n"
          ],
          "name": "stdout"
        }
      ]
    },
    {
      "cell_type": "code",
      "metadata": {
        "id": "8bNx-YEaZPP5",
        "colab_type": "code",
        "colab": {
          "base_uri": "https://localhost:8080/",
          "height": 34
        },
        "outputId": "8369c470-f6a9-4896-c9d4-0311ad1df7e5"
      },
      "source": [
        "players = ['charles', 'martina', 'michael', 'florence', 'eli']\n",
        "print(players[:3])"
      ],
      "execution_count": 53,
      "outputs": [
        {
          "output_type": "stream",
          "text": [
            "['charles', 'martina', 'michael']\n"
          ],
          "name": "stdout"
        }
      ]
    },
    {
      "cell_type": "code",
      "metadata": {
        "id": "fdzQkyRsZUIW",
        "colab_type": "code",
        "colab": {
          "base_uri": "https://localhost:8080/",
          "height": 34
        },
        "outputId": "cba52a5e-2cba-44cb-8ed9-af032c31e16d"
      },
      "source": [
        "players = ['charles', 'martina', 'michael', 'florence', 'eli']\n",
        "print(players[2:])"
      ],
      "execution_count": 54,
      "outputs": [
        {
          "output_type": "stream",
          "text": [
            "['michael', 'florence', 'eli']\n"
          ],
          "name": "stdout"
        }
      ]
    },
    {
      "cell_type": "code",
      "metadata": {
        "id": "RJ3t9UMFZY5e",
        "colab_type": "code",
        "colab": {
          "base_uri": "https://localhost:8080/",
          "height": 34
        },
        "outputId": "b8a57de1-af5a-41e8-a3a5-8f4ee9b38b23"
      },
      "source": [
        "players = ['charles', 'martina', 'michael', 'florence', 'eli']\n",
        "print(players[-3:])"
      ],
      "execution_count": 55,
      "outputs": [
        {
          "output_type": "stream",
          "text": [
            "['michael', 'florence', 'eli']\n"
          ],
          "name": "stdout"
        }
      ]
    },
    {
      "cell_type": "markdown",
      "metadata": {
        "id": "bSIPCUXOZdZP",
        "colab_type": "text"
      },
      "source": [
        "#### looping through a list"
      ]
    },
    {
      "cell_type": "code",
      "metadata": {
        "id": "n9a2DWW2ZhqV",
        "colab_type": "code",
        "colab": {
          "base_uri": "https://localhost:8080/",
          "height": 85
        },
        "outputId": "32f81674-38f4-4019-fc14-bb59e9bd79eb"
      },
      "source": [
        "players = ['charles', 'martina', 'michael', 'florence', 'eli']\n",
        "print(\"Here are the first three players on my team:\")\n",
        "  \n",
        "for player in players[:3]:\n",
        "  print(player.title())"
      ],
      "execution_count": 57,
      "outputs": [
        {
          "output_type": "stream",
          "text": [
            "Here are the first three players on my team:\n",
            "Charles\n",
            "Martina\n",
            "Michael\n"
          ],
          "name": "stdout"
        }
      ]
    },
    {
      "cell_type": "markdown",
      "metadata": {
        "id": "nNFbohL7Z19b",
        "colab_type": "text"
      },
      "source": [
        "#### copy list"
      ]
    },
    {
      "cell_type": "code",
      "metadata": {
        "id": "HgU4RJc2Z5JZ",
        "colab_type": "code",
        "colab": {
          "base_uri": "https://localhost:8080/",
          "height": 102
        },
        "outputId": "6f1a17ea-8666-4455-ea46-8c183a2b9acf"
      },
      "source": [
        "my_foods = ['pizza', 'falafel', 'carrot cake']\n",
        "friend_foods = my_foods[:]\n",
        "\n",
        "print(\"My favorite foods are:\")\n",
        "print(my_foods)\n",
        "\n",
        "print(\"\\nMy friend's favorite foods are:\")\n",
        "print(friend_foods)"
      ],
      "execution_count": 58,
      "outputs": [
        {
          "output_type": "stream",
          "text": [
            "My favorite foods are:\n",
            "['pizza', 'falafel', 'carrot cake']\n",
            "\n",
            "My friend's favorite foods are:\n",
            "['pizza', 'falafel', 'carrot cake']\n"
          ],
          "name": "stdout"
        }
      ]
    },
    {
      "cell_type": "code",
      "metadata": {
        "id": "lcy8yBytaD_S",
        "colab_type": "code",
        "colab": {
          "base_uri": "https://localhost:8080/",
          "height": 102
        },
        "outputId": "67e1b753-e7ea-4d53-e9db-b7b93ab93e5a"
      },
      "source": [
        "my_foods = ['pizza', 'falafel', 'carrot cake']\n",
        "friend_foods = my_foods[:]\n",
        "\n",
        "my_foods.append('cannoli')\n",
        "friend_foods.append('ice cream')\n",
        "\n",
        "print(\"My favorite foods are:\")\n",
        "print(my_foods)\n",
        "\n",
        "print(\"\\nMy friend's favorite foods are:\")\n",
        "print(friend_foods)"
      ],
      "execution_count": 60,
      "outputs": [
        {
          "output_type": "stream",
          "text": [
            "My favorite foods are:\n",
            "['pizza', 'falafel', 'carrot cake', 'cannoli']\n",
            "\n",
            "My friend's favorite foods are:\n",
            "['pizza', 'falafel', 'carrot cake', 'ice cream']\n"
          ],
          "name": "stdout"
        }
      ]
    },
    {
      "cell_type": "code",
      "metadata": {
        "id": "C_DH1VWnaOf6",
        "colab_type": "code",
        "colab": {
          "base_uri": "https://localhost:8080/",
          "height": 102
        },
        "outputId": "6e77027d-f2ca-4c0d-b938-49be96c8fc17"
      },
      "source": [
        "# wow!\n",
        "\n",
        "my_foods = ['pizza', 'falafel', 'carrot cake']\n",
        "# This doesn't work:\n",
        "friend_foods = my_foods\n",
        "\n",
        "my_foods.append('cannoli')\n",
        "friend_foods.append('ice cream')\n",
        "\n",
        "print(\"My favorite foods are:\")\n",
        "print(my_foods)\n",
        "\n",
        "print(\"\\nMy friend's favorite foods are:\")\n",
        "print(friend_foods)"
      ],
      "execution_count": 61,
      "outputs": [
        {
          "output_type": "stream",
          "text": [
            "My favorite foods are:\n",
            "['pizza', 'falafel', 'carrot cake', 'cannoli', 'ice cream']\n",
            "\n",
            "My friend's favorite foods are:\n",
            "['pizza', 'falafel', 'carrot cake', 'cannoli', 'ice cream']\n"
          ],
          "name": "stdout"
        }
      ]
    },
    {
      "cell_type": "markdown",
      "metadata": {
        "id": "Jv-e6zyfaigF",
        "colab_type": "text"
      },
      "source": [
        "## Tuples"
      ]
    },
    {
      "cell_type": "code",
      "metadata": {
        "id": "lRiehUljalf4",
        "colab_type": "code",
        "colab": {
          "base_uri": "https://localhost:8080/",
          "height": 51
        },
        "outputId": "7d98d044-4584-4260-c29f-8ad140ff07df"
      },
      "source": [
        "dimensions = (200, 50)\n",
        "print(dimensions[0])\n",
        "print(dimensions[1])"
      ],
      "execution_count": 62,
      "outputs": [
        {
          "output_type": "stream",
          "text": [
            "200\n",
            "50\n"
          ],
          "name": "stdout"
        }
      ]
    },
    {
      "cell_type": "code",
      "metadata": {
        "id": "5GWOotvyarff",
        "colab_type": "code",
        "colab": {
          "base_uri": "https://localhost:8080/",
          "height": 181
        },
        "outputId": "7f252070-85dc-4abb-9150-2ed07e44385b"
      },
      "source": [
        "dimensions = (200, 50)\n",
        "# This doesn't work:  dimensions[0] = 250"
      ],
      "execution_count": 63,
      "outputs": [
        {
          "output_type": "error",
          "ename": "TypeError",
          "evalue": "ignored",
          "traceback": [
            "\u001b[0;31m---------------------------------------------------------------------------\u001b[0m",
            "\u001b[0;31mTypeError\u001b[0m                                 Traceback (most recent call last)",
            "\u001b[0;32m<ipython-input-63-258c8b06eee2>\u001b[0m in \u001b[0;36m<module>\u001b[0;34m()\u001b[0m\n\u001b[1;32m      1\u001b[0m \u001b[0mdimensions\u001b[0m \u001b[0;34m=\u001b[0m \u001b[0;34m(\u001b[0m\u001b[0;36m200\u001b[0m\u001b[0;34m,\u001b[0m \u001b[0;36m50\u001b[0m\u001b[0;34m)\u001b[0m\u001b[0;34m\u001b[0m\u001b[0;34m\u001b[0m\u001b[0m\n\u001b[0;32m----> 2\u001b[0;31m \u001b[0mdimensions\u001b[0m\u001b[0;34m[\u001b[0m\u001b[0;36m0\u001b[0m\u001b[0;34m]\u001b[0m \u001b[0;34m=\u001b[0m \u001b[0;36m250\u001b[0m\u001b[0;34m\u001b[0m\u001b[0;34m\u001b[0m\u001b[0m\n\u001b[0m",
            "\u001b[0;31mTypeError\u001b[0m: 'tuple' object does not support item assignment"
          ]
        }
      ]
    },
    {
      "cell_type": "markdown",
      "metadata": {
        "id": "HJZivik0a2xn",
        "colab_type": "text"
      },
      "source": [
        "### loop"
      ]
    },
    {
      "cell_type": "code",
      "metadata": {
        "id": "d98oQcnQa4VI",
        "colab_type": "code",
        "colab": {
          "base_uri": "https://localhost:8080/",
          "height": 51
        },
        "outputId": "e39074a5-6310-4666-f9d8-0224b4e53b2e"
      },
      "source": [
        "dimensions = (200, 50)\n",
        "for dimension in dimensions:\n",
        "  print(dimension)"
      ],
      "execution_count": 64,
      "outputs": [
        {
          "output_type": "stream",
          "text": [
            "200\n",
            "50\n"
          ],
          "name": "stdout"
        }
      ]
    },
    {
      "cell_type": "markdown",
      "metadata": {
        "id": "GudQ9QAAbF-S",
        "colab_type": "text"
      },
      "source": [
        "### Writing over a Tuple"
      ]
    },
    {
      "cell_type": "code",
      "metadata": {
        "id": "9SuntY9zbIhP",
        "colab_type": "code",
        "colab": {
          "base_uri": "https://localhost:8080/",
          "height": 136
        },
        "outputId": "59bcbab4-851a-42e9-ef5f-f17b52589175"
      },
      "source": [
        "dimensions = (200, 50)\n",
        "print(\"Original dimensions:\")\n",
        "\n",
        "for dimension in dimensions:\n",
        "  print(dimension)\n",
        "\n",
        "dimensions = (400, 100)\n",
        "print(\"\\nModified dimensions:\")\n",
        "\n",
        "for dimension in dimensions:\n",
        "  print(dimension)"
      ],
      "execution_count": 65,
      "outputs": [
        {
          "output_type": "stream",
          "text": [
            "Original dimensions:\n",
            "200\n",
            "50\n",
            "\n",
            "Modified dimensions:\n",
            "400\n",
            "100\n"
          ],
          "name": "stdout"
        }
      ]
    }
  ]
}