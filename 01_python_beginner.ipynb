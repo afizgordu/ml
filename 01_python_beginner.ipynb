{
  "nbformat": 4,
  "nbformat_minor": 0,
  "metadata": {
    "colab": {
      "name": "01-python-beginner.ipynb",
      "provenance": [],
      "authorship_tag": "ABX9TyPnUFYHjwpx5BjXBLsAFXMF",
      "include_colab_link": true
    },
    "kernelspec": {
      "name": "python3",
      "display_name": "Python 3"
    }
  },
  "cells": [
    {
      "cell_type": "markdown",
      "metadata": {
        "id": "view-in-github",
        "colab_type": "text"
      },
      "source": [
        "<a href=\"https://colab.research.google.com/github/cevheri/ml/blob/master/01_python_beginner.ipynb\" target=\"_parent\"><img src=\"https://colab.research.google.com/assets/colab-badge.svg\" alt=\"Open In Colab\"/></a>"
      ]
    },
    {
      "cell_type": "markdown",
      "metadata": {
        "id": "jeIcKpWFDM9q",
        "colab_type": "text"
      },
      "source": [
        "Review of Python\n",
        "\n",
        "---\n",
        "\n",
        "* Data Types\n",
        "* For Loops\n",
        "* While Loops\n",
        "* Operators"
      ]
    },
    {
      "cell_type": "markdown",
      "metadata": {
        "id": "gXE0-v7_DfpQ",
        "colab_type": "text"
      },
      "source": [
        "Python Major Rules\n",
        "\n",
        "---\n",
        "\n",
        "* and\n",
        "* As\n",
        "* Assert\n",
        "* Async\n",
        "* Await\n",
        "* Break\n",
        "* Class\n",
        "* Continue\n",
        "* Def\n",
        "* Del\n",
        "* Elif\n",
        "\n",
        "* Else\n",
        "* Except\n",
        "* Exec\n",
        "* False\n",
        "* Finally\n",
        "* For\n",
        "* From\n",
        "* Global\n",
        "* If\n",
        "* Import\n",
        "* In\n",
        "* is\n",
        "\n",
        "* Lambda\n",
        "* None\n",
        "* Nonlocal\n",
        "* Not\n",
        "* Or\n",
        "* Pass\n",
        "* Print\n",
        "* Raise\n",
        "* Return\n",
        "* True\n",
        "* Try\n",
        "* While\n",
        "* With\n",
        "* yield"
      ]
    },
    {
      "cell_type": "markdown",
      "metadata": {
        "id": "b9l2lcEnEJ5_",
        "colab_type": "text"
      },
      "source": [
        "The follow data types exist:\n",
        "* String, str\n",
        "* Integer, int\n",
        "* Float, float\n",
        "* Lists, list\n",
        "* Tuples, tuple\n",
        "* Sets, set\n",
        "* Dictionary, dict"
      ]
    }
  ]
}