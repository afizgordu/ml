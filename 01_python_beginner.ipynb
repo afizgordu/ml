{
  "nbformat": 4,
  "nbformat_minor": 0,
  "metadata": {
    "colab": {
      "name": "01-python-beginner.ipynb",
      "provenance": [],
      "collapsed_sections": [],
      "authorship_tag": "ABX9TyPeNxzsT4Jqj/fU/mi8L3ab",
      "include_colab_link": true
    },
    "kernelspec": {
      "name": "python3",
      "display_name": "Python 3"
    }
  },
  "cells": [
    {
      "cell_type": "markdown",
      "metadata": {
        "id": "view-in-github",
        "colab_type": "text"
      },
      "source": [
        "<a href=\"https://colab.research.google.com/github/cevheri/ml/blob/master/01_python_beginner.ipynb\" target=\"_parent\"><img src=\"https://colab.research.google.com/assets/colab-badge.svg\" alt=\"Open In Colab\"/></a>"
      ]
    },
    {
      "cell_type": "markdown",
      "metadata": {
        "id": "jeIcKpWFDM9q",
        "colab_type": "text"
      },
      "source": [
        "Review of Python\n",
        "\n",
        "---\n",
        "\n",
        "* Data Types\n",
        "* For Loops\n",
        "* While Loops\n",
        "* Operators"
      ]
    },
    {
      "cell_type": "markdown",
      "metadata": {
        "id": "gXE0-v7_DfpQ",
        "colab_type": "text"
      },
      "source": [
        "Python Major Rules\n",
        "\n",
        "---\n",
        "\n",
        "* and\n",
        "* As\n",
        "* Assert\n",
        "* Async\n",
        "* Await\n",
        "* Break\n",
        "* Class\n",
        "* Continue\n",
        "* Def\n",
        "* Del\n",
        "* Elif\n",
        "\n",
        "* Else\n",
        "* Except\n",
        "* Exec\n",
        "* False\n",
        "* Finally\n",
        "* For\n",
        "* From\n",
        "* Global\n",
        "* If\n",
        "* Import\n",
        "* In\n",
        "* is\n",
        "\n",
        "* Lambda\n",
        "* None\n",
        "* Nonlocal\n",
        "* Not\n",
        "* Or\n",
        "* Pass\n",
        "* Print\n",
        "* Raise\n",
        "* Return\n",
        "* True\n",
        "* Try\n",
        "* While\n",
        "* With\n",
        "* yield"
      ]
    },
    {
      "cell_type": "markdown",
      "metadata": {
        "id": "b9l2lcEnEJ5_",
        "colab_type": "text"
      },
      "source": [
        "The follow data types exist:\n",
        "* String, str\n",
        "* Integer, int\n",
        "* Float, float\n",
        "* Lists, list\n",
        "* Tuples, tuple\n",
        "* Sets, set\n",
        "* Dictionary, dict"
      ]
    },
    {
      "cell_type": "markdown",
      "metadata": {
        "id": "Zejmw4-rRGyu",
        "colab_type": "text"
      },
      "source": [
        "Strings"
      ]
    },
    {
      "cell_type": "code",
      "metadata": {
        "id": "n0vSAfzQRtwU",
        "colab_type": "code",
        "colab": {
          "base_uri": "https://localhost:8080/",
          "height": 69
        },
        "outputId": "d74efa0f-f5c6-4d5a-cd18-e7f6e97e19c9"
      },
      "source": [
        "print(\"This is a string.\")\n",
        "print('This is also a string.')\n",
        "'I told my friend, \"Python is my favorite language!\"'\n",
        "\"The language 'Python' is named after Monty Python, not the snake.\"\n",
        "\"One of Python's strengths is its diverse and supportive community.\""
      ],
      "execution_count": 1,
      "outputs": [
        {
          "output_type": "stream",
          "text": [
            "This is a string.\n",
            "This is also a string.\n"
          ],
          "name": "stdout"
        },
        {
          "output_type": "execute_result",
          "data": {
            "application/vnd.google.colaboratory.intrinsic+json": {
              "type": "string"
            },
            "text/plain": [
              "\"One of Python's strengths is its diverse and supportive community.\""
            ]
          },
          "metadata": {
            "tags": []
          },
          "execution_count": 1
        }
      ]
    }
  ]
}