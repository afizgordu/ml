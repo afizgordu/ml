{
  "nbformat": 4,
  "nbformat_minor": 0,
  "metadata": {
    "colab": {
      "name": "01-python-beginner.ipynb",
      "provenance": [],
      "collapsed_sections": [],
      "authorship_tag": "ABX9TyNJCNDHqW4Oq7ffgvsNBtyJ",
      "include_colab_link": true
    },
    "kernelspec": {
      "name": "python3",
      "display_name": "Python 3"
    }
  },
  "cells": [
    {
      "cell_type": "markdown",
      "metadata": {
        "id": "view-in-github",
        "colab_type": "text"
      },
      "source": [
        "<a href=\"https://colab.research.google.com/github/cevheri/ml/blob/master/01_python_beginner.ipynb\" target=\"_parent\"><img src=\"https://colab.research.google.com/assets/colab-badge.svg\" alt=\"Open In Colab\"/></a>"
      ]
    },
    {
      "cell_type": "markdown",
      "metadata": {
        "id": "_-2zaEygp2MG",
        "colab_type": "text"
      },
      "source": [
        "# Beginner - Python Crash Course\n",
        "\n",
        "ref: https://ehmatthes.github.io/pcc/"
      ]
    },
    {
      "cell_type": "markdown",
      "metadata": {
        "id": "jeIcKpWFDM9q",
        "colab_type": "text"
      },
      "source": [
        "## Review of Python\n",
        "\n",
        "---\n",
        "\n",
        "* Data Types\n",
        "* For Loops\n",
        "* While Loops\n",
        "* Operators"
      ]
    },
    {
      "cell_type": "markdown",
      "metadata": {
        "id": "gXE0-v7_DfpQ",
        "colab_type": "text"
      },
      "source": [
        "## Python Major Rules\n",
        "\n",
        "---\n",
        "\n",
        "* and\n",
        "* As\n",
        "* Assert\n",
        "* Async\n",
        "* Await\n",
        "* Break\n",
        "* Class\n",
        "* Continue\n",
        "* Def\n",
        "* Del\n",
        "* Elif\n",
        "\n",
        "* Else\n",
        "* Except\n",
        "* Exec\n",
        "* False\n",
        "* Finally\n",
        "* For\n",
        "* From\n",
        "* Global\n",
        "* If\n",
        "* Import\n",
        "* In\n",
        "* is\n",
        "\n",
        "* Lambda\n",
        "* None\n",
        "* Nonlocal\n",
        "* Not\n",
        "* Or\n",
        "* Pass\n",
        "* Print\n",
        "* Raise\n",
        "* Return\n",
        "* True\n",
        "* Try\n",
        "* While\n",
        "* With\n",
        "* yield"
      ]
    },
    {
      "cell_type": "markdown",
      "metadata": {
        "id": "b9l2lcEnEJ5_",
        "colab_type": "text"
      },
      "source": [
        "## The follow data types exist:\n",
        "* String, str\n",
        "* Integer, int\n",
        "* Float, float\n",
        "* Lists, list\n",
        "* Tuples, tuple\n",
        "* Sets, set\n",
        "* Dictionary, dict"
      ]
    },
    {
      "cell_type": "markdown",
      "metadata": {
        "id": "Zejmw4-rRGyu",
        "colab_type": "text"
      },
      "source": [
        "# Strings"
      ]
    },
    {
      "cell_type": "code",
      "metadata": {
        "id": "n0vSAfzQRtwU",
        "colab_type": "code",
        "colab": {
          "base_uri": "https://localhost:8080/",
          "height": 69
        },
        "outputId": "d74efa0f-f5c6-4d5a-cd18-e7f6e97e19c9"
      },
      "source": [
        "print(\"This is a string.\")\n",
        "print('This is also a string.')\n",
        "'I told my friend, \"Python is my favorite language!\"'\n",
        "\"The language 'Python' is named after Monty Python, not the snake.\"\n",
        "\"One of Python's strengths is its diverse and supportive community.\""
      ],
      "execution_count": 1,
      "outputs": [
        {
          "output_type": "stream",
          "text": [
            "This is a string.\n",
            "This is also a string.\n"
          ],
          "name": "stdout"
        },
        {
          "output_type": "execute_result",
          "data": {
            "application/vnd.google.colaboratory.intrinsic+json": {
              "type": "string"
            },
            "text/plain": [
              "\"One of Python's strengths is its diverse and supportive community.\""
            ]
          },
          "metadata": {
            "tags": []
          },
          "execution_count": 1
        }
      ]
    },
    {
      "cell_type": "code",
      "metadata": {
        "id": "OZ0sbob7l6SM",
        "colab_type": "code",
        "colab": {
          "base_uri": "https://localhost:8080/",
          "height": 34
        },
        "outputId": "3091cd01-a4d5-4eb9-9f63-ca1a021deace"
      },
      "source": [
        "name = \"cevheri python\"\n",
        "print(name.title())"
      ],
      "execution_count": 2,
      "outputs": [
        {
          "output_type": "stream",
          "text": [
            "Cevheri Python\n"
          ],
          "name": "stdout"
        }
      ]
    },
    {
      "cell_type": "code",
      "metadata": {
        "id": "SYuLShsRmFNh",
        "colab_type": "code",
        "colab": {
          "base_uri": "https://localhost:8080/",
          "height": 51
        },
        "outputId": "ce8bfde1-49b3-42cd-f9d5-0f479ca432d6"
      },
      "source": [
        "name = \"cevheri python\"\n",
        "print(name.upper())\n",
        "print(name.lower())"
      ],
      "execution_count": 3,
      "outputs": [
        {
          "output_type": "stream",
          "text": [
            "CEVHERI PYTHON\n",
            "cevheri python\n"
          ],
          "name": "stdout"
        }
      ]
    },
    {
      "cell_type": "code",
      "metadata": {
        "id": "eTA3fTEdmNFZ",
        "colab_type": "code",
        "colab": {
          "base_uri": "https://localhost:8080/",
          "height": 102
        },
        "outputId": "ba4be509-30ed-4688-a3ad-9b183188be32"
      },
      "source": [
        "name = \"cevheri python\"\n",
        "first_name, last_name = name.split()\n",
        "print(first_name)\n",
        "print(last_name)\n",
        "\n",
        "print(\"Hello \"+first_name.title()+\" \"+last_name.title()+\" !..\")\n",
        "\n",
        "# good\n",
        "print(\"Hello\", first_name.title(), last_name.title(),\"!..\")\n",
        "\n",
        "# good*2\n",
        "print(\"Hello {} {} !..\".format(first_name.title(), last_name.title()))"
      ],
      "execution_count": 5,
      "outputs": [
        {
          "output_type": "stream",
          "text": [
            "cevheri\n",
            "python\n",
            "Hello Cevheri Python !..\n",
            "Hello Cevheri Python !..\n",
            "Hello Cevheri Python !..\n"
          ],
          "name": "stdout"
        }
      ]
    },
    {
      "cell_type": "markdown",
      "metadata": {
        "id": "2EgQGFH2pbkg",
        "colab_type": "text"
      },
      "source": [
        "# Stripping Whitespace"
      ]
    },
    {
      "cell_type": "code",
      "metadata": {
        "id": "uDAZnOXkpXEq",
        "colab_type": "code",
        "colab": {
          "base_uri": "https://localhost:8080/",
          "height": 68
        },
        "outputId": "11764dac-fc81-4bbc-d388-be2b74e4dbe0"
      },
      "source": [
        "favorite_language = '    python    '\n",
        "\n",
        "print(favorite_language.rstrip())\n",
        "# '     python'\n",
        "\n",
        "print(favorite_language.lstrip())\n",
        "# 'python    '\n",
        "\n",
        "print(favorite_language.strip())\n",
        "# 'python'\n"
      ],
      "execution_count": 10,
      "outputs": [
        {
          "output_type": "stream",
          "text": [
            "    python\n",
            "python    \n",
            "python\n"
          ],
          "name": "stdout"
        }
      ]
    },
    {
      "cell_type": "markdown",
      "metadata": {
        "id": "_WsAlfldu6s6",
        "colab_type": "text"
      },
      "source": [
        "# Numbers\n"
      ]
    },
    {
      "cell_type": "code",
      "metadata": {
        "id": "dPArS3epu9QC",
        "colab_type": "code",
        "colab": {
          "base_uri": "https://localhost:8080/",
          "height": 136
        },
        "outputId": "3ac56958-47d0-4294-cba2-f4def9d1492c"
      },
      "source": [
        "print(2+3)\n",
        "# 5\n",
        "print(3-2)\n",
        "# 1\n",
        "print(2*3)\n",
        "# 6\n",
        "print(3/2)\n",
        "# 1.5\n",
        "\n",
        "print(3**2)\n",
        "# 9\n",
        "print(3**3)\n",
        "# 27\n",
        "print(10**6)\n",
        "# 1000000\n",
        "\n",
        "\n",
        "print(2 + 3 * 4)\n",
        "# 14\n",
        "print((2 + 3) * 4)\n",
        "# 20\n",
        "\n"
      ],
      "execution_count": 11,
      "outputs": [
        {
          "output_type": "stream",
          "text": [
            "5\n",
            "1\n",
            "6\n",
            "1.5\n",
            "9\n",
            "27\n",
            "1000000\n"
          ],
          "name": "stdout"
        }
      ]
    }
  ]
}