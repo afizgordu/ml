{
  "nbformat": 4,
  "nbformat_minor": 0,
  "metadata": {
    "colab": {
      "name": "01-python-beginner.ipynb",
      "provenance": [],
      "collapsed_sections": [],
      "toc_visible": true,
      "authorship_tag": "ABX9TyP49yJv2lA2TeAzslMbnK9t",
      "include_colab_link": true
    },
    "kernelspec": {
      "name": "python3",
      "display_name": "Python 3"
    }
  },
  "cells": [
    {
      "cell_type": "markdown",
      "metadata": {
        "id": "view-in-github",
        "colab_type": "text"
      },
      "source": [
        "<a href=\"https://colab.research.google.com/github/cevheri/ml/blob/master/01_python_beginner.ipynb\" target=\"_parent\"><img src=\"https://colab.research.google.com/assets/colab-badge.svg\" alt=\"Open In Colab\"/></a>"
      ]
    },
    {
      "cell_type": "markdown",
      "metadata": {
        "id": "_-2zaEygp2MG",
        "colab_type": "text"
      },
      "source": [
        "# Beginner - Python Crash Course\n",
        "\n",
        "*The Zen of Python, by Tim Peters*\n",
        "\n",
        "EN\n",
        "* Beautiful is better than ugly.\n",
        "* Explicit is better than implicit.\n",
        "* Simple is better than complex.\n",
        "* Complex is better than complicated.\n",
        "* Flat is better than nested.\n",
        "* Sparse is better than dense.\n",
        "* Readability counts.\n",
        "* Special cases aren't special enough to break the rules.\n",
        "* Although practicality beats purity.\n",
        "* Errors should never pass silently.\n",
        "* Unless explicitly silenced.\n",
        "* In the face of ambiguity, refuse the temptation to guess.\n",
        "* There should be one-- and preferably only one --obvious way to do it.\n",
        "* Although that way may not be obvious at first unless you're Dutch.\n",
        "* Now is better than never.\n",
        "* Although never is often better than *right* now.\n",
        "* If the implementation is hard to explain, it's a bad idea.\n",
        "* If the implementation is easy to explain, it may be a good idea.\n",
        "* Namespaces are one honking great idea -- let's do more of those!\n",
        "\n",
        "---\n",
        "\n",
        "TR\n",
        "* Güzel, çirkin olmaktan iyidir.\n",
        "* Açık, örtük olmaktan daha iyidir.\n",
        "* Basit, karmaşıktan daha iyidir.\n",
        "* Karmaşık, karmaşık olmaktan daha iyidir.\n",
        "* Düz, iç içe olmaktan daha iyidir.\n",
        "* Seyrek yoğun olandan daha iyidir.\n",
        "* Okunabilirlik önemlidir.\n",
        "* Özel durumlar kuralları çiğnemek için yeterince özel değildir.\n",
        "* Pratiklik saflığı yense de.\n",
        "* Hatalar asla sessizce geçmemelidir.\n",
        "* Açıkça susturulmadıkça.\n",
        "* Belirsizlik karşısında, tahmin etme cazibesini reddedin.\n",
        "* Bunu yapmanın bir - ve tercihen sadece bir - açık yolu olmalıdır.\n",
        "* Hollandalı değilseniz bu yol ilk bakışta bariz olmayabilir.\n",
        "* Şimdi hiç olmadığı kadar iyi.\n",
        "* Yine de hiçbir zaman şu anda * şu andan * daha iyi değildir.\n",
        "* Uygulamanın açıklanması zorsa, bu kötü bir fikirdir.\n",
        "* Uygulamanın açıklanması kolaysa, iyi bir fikir olabilir.\n",
        "* İsim alanları, harika bir fikir - hadi onlardan daha fazlasını yapalım!\n",
        "\n",
        "ref: https://ehmatthes.github.io/pcc/"
      ]
    },
    {
      "cell_type": "markdown",
      "metadata": {
        "id": "jeIcKpWFDM9q",
        "colab_type": "text"
      },
      "source": [
        "## Review of Python\n",
        "\n",
        "---\n",
        "\n",
        "* Data Types\n",
        "* For Loops\n",
        "* While Loops\n",
        "* Operators"
      ]
    },
    {
      "cell_type": "markdown",
      "metadata": {
        "id": "gXE0-v7_DfpQ",
        "colab_type": "text"
      },
      "source": [
        "## Python Major Rules\n",
        "\n",
        "---\n",
        "\n",
        "* and\n",
        "* As\n",
        "* Assert\n",
        "* Async\n",
        "* Await\n",
        "* Break\n",
        "* Class\n",
        "* Continue\n",
        "* Def\n",
        "* Del\n",
        "* Elif\n",
        "\n",
        "* Else\n",
        "* Except\n",
        "* Exec\n",
        "* False\n",
        "* Finally\n",
        "* For\n",
        "* From\n",
        "* Global\n",
        "* If\n",
        "* Import\n",
        "* In\n",
        "* is\n",
        "\n",
        "* Lambda\n",
        "* None\n",
        "* Nonlocal\n",
        "* Not\n",
        "* Or\n",
        "* Pass\n",
        "* Print\n",
        "* Raise\n",
        "* Return\n",
        "* True\n",
        "* Try\n",
        "* While\n",
        "* With\n",
        "* yield"
      ]
    },
    {
      "cell_type": "markdown",
      "metadata": {
        "id": "b9l2lcEnEJ5_",
        "colab_type": "text"
      },
      "source": [
        "## The follow data types exist:\n",
        "* String, str\n",
        "* Integer, int\n",
        "* Float, float\n",
        "* Lists, list\n",
        "* Tuples, tuple\n",
        "* Sets, set\n",
        "* Dictionary, dict"
      ]
    },
    {
      "cell_type": "markdown",
      "metadata": {
        "id": "9bO44uRH2U9V",
        "colab_type": "text"
      },
      "source": [
        "# Variables"
      ]
    },
    {
      "cell_type": "markdown",
      "metadata": {
        "id": "Zejmw4-rRGyu",
        "colab_type": "text"
      },
      "source": [
        "## Strings"
      ]
    },
    {
      "cell_type": "code",
      "metadata": {
        "id": "n0vSAfzQRtwU",
        "colab_type": "code",
        "colab": {
          "base_uri": "https://localhost:8080/",
          "height": 69
        },
        "outputId": "d74efa0f-f5c6-4d5a-cd18-e7f6e97e19c9"
      },
      "source": [
        "print(\"This is a string.\")\n",
        "print('This is also a string.')\n",
        "'I told my friend, \"Python is my favorite language!\"'\n",
        "\"The language 'Python' is named after Monty Python, not the snake.\"\n",
        "\"One of Python's strengths is its diverse and supportive community.\""
      ],
      "execution_count": 1,
      "outputs": [
        {
          "output_type": "stream",
          "text": [
            "This is a string.\n",
            "This is also a string.\n"
          ],
          "name": "stdout"
        },
        {
          "output_type": "execute_result",
          "data": {
            "application/vnd.google.colaboratory.intrinsic+json": {
              "type": "string"
            },
            "text/plain": [
              "\"One of Python's strengths is its diverse and supportive community.\""
            ]
          },
          "metadata": {
            "tags": []
          },
          "execution_count": 1
        }
      ]
    },
    {
      "cell_type": "markdown",
      "metadata": {
        "id": "I33CnC6R2maX",
        "colab_type": "text"
      },
      "source": [
        "### Title"
      ]
    },
    {
      "cell_type": "code",
      "metadata": {
        "id": "OZ0sbob7l6SM",
        "colab_type": "code",
        "colab": {
          "base_uri": "https://localhost:8080/",
          "height": 34
        },
        "outputId": "3091cd01-a4d5-4eb9-9f63-ca1a021deace"
      },
      "source": [
        "name = \"cevheri python\"\n",
        "print(name.title())"
      ],
      "execution_count": 2,
      "outputs": [
        {
          "output_type": "stream",
          "text": [
            "Cevheri Python\n"
          ],
          "name": "stdout"
        }
      ]
    },
    {
      "cell_type": "markdown",
      "metadata": {
        "id": "1PV_PT_r2yug",
        "colab_type": "text"
      },
      "source": [
        "### upper - lover"
      ]
    },
    {
      "cell_type": "code",
      "metadata": {
        "id": "SYuLShsRmFNh",
        "colab_type": "code",
        "colab": {
          "base_uri": "https://localhost:8080/",
          "height": 51
        },
        "outputId": "ce8bfde1-49b3-42cd-f9d5-0f479ca432d6"
      },
      "source": [
        "name = \"cevheri python\"\n",
        "print(name.upper())\n",
        "print(name.lower())"
      ],
      "execution_count": 3,
      "outputs": [
        {
          "output_type": "stream",
          "text": [
            "CEVHERI PYTHON\n",
            "cevheri python\n"
          ],
          "name": "stdout"
        }
      ]
    },
    {
      "cell_type": "markdown",
      "metadata": {
        "id": "mYz5N43e2-yl",
        "colab_type": "text"
      },
      "source": [
        "### split"
      ]
    },
    {
      "cell_type": "code",
      "metadata": {
        "id": "eTA3fTEdmNFZ",
        "colab_type": "code",
        "colab": {
          "base_uri": "https://localhost:8080/",
          "height": 102
        },
        "outputId": "ba4be509-30ed-4688-a3ad-9b183188be32"
      },
      "source": [
        "name = \"cevheri python\"\n",
        "first_name, last_name = name.split()\n",
        "print(first_name)\n",
        "print(last_name)\n",
        "\n",
        "print(\"Hello \"+first_name.title()+\" \"+last_name.title()+\" !..\")\n",
        "\n",
        "# good\n",
        "print(\"Hello\", first_name.title(), last_name.title(),\"!..\")\n",
        "\n"
      ],
      "execution_count": 5,
      "outputs": [
        {
          "output_type": "stream",
          "text": [
            "cevheri\n",
            "python\n",
            "Hello Cevheri Python !..\n",
            "Hello Cevheri Python !..\n",
            "Hello Cevheri Python !..\n"
          ],
          "name": "stdout"
        }
      ]
    },
    {
      "cell_type": "markdown",
      "metadata": {
        "id": "YJFFq70f3DN-",
        "colab_type": "text"
      },
      "source": [
        "### format"
      ]
    },
    {
      "cell_type": "code",
      "metadata": {
        "id": "fbSvF4DJ3FaD",
        "colab_type": "code",
        "colab": {}
      },
      "source": [
        "# good*2\n",
        "print(\"Hello {} {} !..\".format(first_name.title(), last_name.title()))"
      ],
      "execution_count": null,
      "outputs": []
    },
    {
      "cell_type": "markdown",
      "metadata": {
        "id": "2EgQGFH2pbkg",
        "colab_type": "text"
      },
      "source": [
        "### strip"
      ]
    },
    {
      "cell_type": "code",
      "metadata": {
        "id": "uDAZnOXkpXEq",
        "colab_type": "code",
        "colab": {
          "base_uri": "https://localhost:8080/",
          "height": 68
        },
        "outputId": "11764dac-fc81-4bbc-d388-be2b74e4dbe0"
      },
      "source": [
        "favorite_language = '    python    '\n",
        "\n",
        "print(favorite_language.rstrip())\n",
        "# '     python'\n",
        "\n",
        "print(favorite_language.lstrip())\n",
        "# 'python    '\n",
        "\n",
        "print(favorite_language.strip())\n",
        "# 'python'\n"
      ],
      "execution_count": 10,
      "outputs": [
        {
          "output_type": "stream",
          "text": [
            "    python\n",
            "python    \n",
            "python\n"
          ],
          "name": "stdout"
        }
      ]
    },
    {
      "cell_type": "markdown",
      "metadata": {
        "id": "_WsAlfldu6s6",
        "colab_type": "text"
      },
      "source": [
        "## Numbers\n"
      ]
    },
    {
      "cell_type": "code",
      "metadata": {
        "id": "dPArS3epu9QC",
        "colab_type": "code",
        "colab": {
          "base_uri": "https://localhost:8080/",
          "height": 136
        },
        "outputId": "3ac56958-47d0-4294-cba2-f4def9d1492c"
      },
      "source": [
        "print(2+3)\n",
        "# 5\n",
        "print(3-2)\n",
        "# 1\n",
        "print(2*3)\n",
        "# 6\n",
        "print(3/2)\n",
        "# 1.5\n",
        "\n",
        "print(3**2)\n",
        "# 9\n",
        "print(3**3)\n",
        "# 27\n",
        "print(10**6)\n",
        "# 1000000\n",
        "\n",
        "\n",
        "print(2 + 3 * 4)\n",
        "# 14\n",
        "print((2 + 3) * 4)\n",
        "# 20\n",
        "\n"
      ],
      "execution_count": 11,
      "outputs": [
        {
          "output_type": "stream",
          "text": [
            "5\n",
            "1\n",
            "6\n",
            "1.5\n",
            "9\n",
            "27\n",
            "1000000\n"
          ],
          "name": "stdout"
        }
      ]
    },
    {
      "cell_type": "markdown",
      "metadata": {
        "id": "O_xnhrigv2dm",
        "colab_type": "text"
      },
      "source": [
        "## Floats"
      ]
    },
    {
      "cell_type": "code",
      "metadata": {
        "id": "2z2DaLLEv3uk",
        "colab_type": "code",
        "colab": {
          "base_uri": "https://localhost:8080/",
          "height": 85
        },
        "outputId": "c8a3cd85-5db5-4022-ea55-f840387d8b9a"
      },
      "source": [
        "print(0.1 + 0.1)\n",
        "# 0.2\n",
        "print(0.2 + 0.2)\n",
        "# 0.4\n",
        "print(2 * 0.1)\n",
        "# 0.2\n",
        "print(2 * 0.2)\n",
        "# 0.4"
      ],
      "execution_count": 12,
      "outputs": [
        {
          "output_type": "stream",
          "text": [
            "0.2\n",
            "0.4\n",
            "0.2\n",
            "0.4\n"
          ],
          "name": "stdout"
        }
      ]
    },
    {
      "cell_type": "markdown",
      "metadata": {
        "id": "rtc0lU5a-h9I",
        "colab_type": "text"
      },
      "source": [
        "### wow !"
      ]
    },
    {
      "cell_type": "code",
      "metadata": {
        "id": "_-H40gArwIbJ",
        "colab_type": "code",
        "colab": {
          "base_uri": "https://localhost:8080/",
          "height": 51
        },
        "outputId": "1a7482e7-edb5-4938-f8d9-f427e9e3de25"
      },
      "source": [
        "print(0.2 + 0.1)\n",
        "# 0.30000000000000004\n",
        "print(3 * 0.1)\n",
        "# 0.30000000000000004"
      ],
      "execution_count": 13,
      "outputs": [
        {
          "output_type": "stream",
          "text": [
            "0.30000000000000004\n",
            "0.30000000000000004\n"
          ],
          "name": "stdout"
        }
      ]
    },
    {
      "cell_type": "code",
      "metadata": {
        "id": "NBPkFKyowbRG",
        "colab_type": "code",
        "colab": {
          "base_uri": "https://localhost:8080/",
          "height": 34
        },
        "outputId": "c6d8103c-68ee-4705-c03b-4d6a1b928ae3"
      },
      "source": [
        "# int to str\n",
        "age = 23\n",
        "message = \"Happy \" + str(age) + \"rd Birthday!\"\n",
        "print(message)"
      ],
      "execution_count": 14,
      "outputs": [
        {
          "output_type": "stream",
          "text": [
            "Happy 23rd Birthday!\n"
          ],
          "name": "stdout"
        }
      ]
    },
    {
      "cell_type": "markdown",
      "metadata": {
        "id": "IhcftMZJ3fDL",
        "colab_type": "text"
      },
      "source": [
        "## List"
      ]
    },
    {
      "cell_type": "code",
      "metadata": {
        "id": "bOJqay0c3gqg",
        "colab_type": "code",
        "colab": {
          "base_uri": "https://localhost:8080/",
          "height": 51
        },
        "outputId": "1c3e3884-9ef9-405c-8419-a96597f754aa"
      },
      "source": [
        "bicycles = ['trek', 'cannondale', 'redline', 'specialized']\n",
        "print(bicycles)"
      ],
      "execution_count": 18,
      "outputs": [
        {
          "output_type": "stream",
          "text": [
            "['trek', 'cannondale', 'redline', 'specialized']\n",
            "Trek\n"
          ],
          "name": "stdout"
        }
      ]
    },
    {
      "cell_type": "code",
      "metadata": {
        "id": "GsWkqrpD5NC2",
        "colab_type": "code",
        "colab": {
          "base_uri": "https://localhost:8080/",
          "height": 34
        },
        "outputId": "27b1b801-6f67-4a23-c828-a0670207ff58"
      },
      "source": [
        "# index start 0... \n",
        "print(bicycles[0].title())"
      ],
      "execution_count": 21,
      "outputs": [
        {
          "output_type": "stream",
          "text": [
            "Trek\n"
          ],
          "name": "stdout"
        }
      ]
    },
    {
      "cell_type": "code",
      "metadata": {
        "id": "8ARQqArf5NHd",
        "colab_type": "code",
        "colab": {
          "base_uri": "https://localhost:8080/",
          "height": 34
        },
        "outputId": "b69bde73-9afa-47e4-973a-d7212ba49d1e"
      },
      "source": [
        "# Last Element\n",
        "print(bicycles[-1])"
      ],
      "execution_count": 20,
      "outputs": [
        {
          "output_type": "stream",
          "text": [
            "specialized\n"
          ],
          "name": "stdout"
        }
      ]
    },
    {
      "cell_type": "markdown",
      "metadata": {
        "id": "vXkr40rs7VUG",
        "colab_type": "text"
      },
      "source": [
        "### modify"
      ]
    },
    {
      "cell_type": "code",
      "metadata": {
        "id": "ffouKUzZ5NFI",
        "colab_type": "code",
        "colab": {
          "base_uri": "https://localhost:8080/",
          "height": 51
        },
        "outputId": "92f422d8-8713-45c0-ba99-baac3eccd18d"
      },
      "source": [
        "motorcycles = ['honda', 'yamaha', 'suzuki']\n",
        "print(motorcycles)\n",
        "\n",
        "motorcycles[0] = \"ducati\"\n",
        "print(motorcycles)"
      ],
      "execution_count": 19,
      "outputs": [
        {
          "output_type": "stream",
          "text": [
            "['honda', 'yamaha', 'suzuki']\n",
            "['ducati', 'yamaha', 'suzuki']\n"
          ],
          "name": "stdout"
        }
      ]
    },
    {
      "cell_type": "markdown",
      "metadata": {
        "id": "XiSUTwCM7o8Q",
        "colab_type": "text"
      },
      "source": [
        "### add - append"
      ]
    },
    {
      "cell_type": "code",
      "metadata": {
        "id": "CNmYIH1j5MyO",
        "colab_type": "code",
        "colab": {
          "base_uri": "https://localhost:8080/",
          "height": 51
        },
        "outputId": "473fb9cd-283d-4aa3-9720-b9b9f22ecba7"
      },
      "source": [
        "motorcycles = ['honda', 'yamaha', 'suzuki']\n",
        "print(motorcycles)\n",
        "\n",
        "motorcycles.append('ducati')\n",
        "print(motorcycles)"
      ],
      "execution_count": 22,
      "outputs": [
        {
          "output_type": "stream",
          "text": [
            "['honda', 'yamaha', 'suzuki']\n",
            "['honda', 'yamaha', 'suzuki', 'ducati']\n"
          ],
          "name": "stdout"
        }
      ]
    },
    {
      "cell_type": "code",
      "metadata": {
        "id": "Y7a2q9Si70sz",
        "colab_type": "code",
        "colab": {
          "base_uri": "https://localhost:8080/",
          "height": 34
        },
        "outputId": "e32ff9c7-3c4e-4b7f-bcdf-00cc265f09d6"
      },
      "source": [
        "motorcycles = []\n",
        "motorcycles.append('honda')\n",
        "motorcycles.append('yamaha')\n",
        "motorcycles.append('suzuki')\n",
        "print(motorcycles)"
      ],
      "execution_count": 23,
      "outputs": [
        {
          "output_type": "stream",
          "text": [
            "['honda', 'yamaha', 'suzuki']\n"
          ],
          "name": "stdout"
        }
      ]
    },
    {
      "cell_type": "markdown",
      "metadata": {
        "id": "8cOTyugR736n",
        "colab_type": "text"
      },
      "source": [
        "### insert element"
      ]
    },
    {
      "cell_type": "code",
      "metadata": {
        "id": "V9Yd0h9-7-DD",
        "colab_type": "code",
        "colab": {
          "base_uri": "https://localhost:8080/",
          "height": 51
        },
        "outputId": "d310b39c-c89f-48f9-9c11-453aa9ea9b6b"
      },
      "source": [
        "motorcycles = ['honda', 'yamaha', 'suzuki']\n",
        "print(motorcycles)\n",
        "\n",
        "motorcycles.insert(0, 'ducati')\n",
        "print(motorcycles)"
      ],
      "execution_count": 25,
      "outputs": [
        {
          "output_type": "stream",
          "text": [
            "['honda', 'yamaha', 'suzuki']\n",
            "['ducati', 'honda', 'yamaha', 'suzuki']\n"
          ],
          "name": "stdout"
        }
      ]
    },
    {
      "cell_type": "markdown",
      "metadata": {
        "id": "LxbytpMt8FOL",
        "colab_type": "text"
      },
      "source": [
        "### delete"
      ]
    },
    {
      "cell_type": "code",
      "metadata": {
        "id": "koegm4QT8KX3",
        "colab_type": "code",
        "colab": {
          "base_uri": "https://localhost:8080/",
          "height": 51
        },
        "outputId": "6a4ec0f2-e937-44f2-a6e8-18c48359210b"
      },
      "source": [
        "motorcycles = ['honda', 'yamaha', 'suzuki']\n",
        "print(motorcycles)\n",
        "\n",
        "del motorcycles[0]\n",
        "print(motorcycles)"
      ],
      "execution_count": 26,
      "outputs": [
        {
          "output_type": "stream",
          "text": [
            "['honda', 'yamaha', 'suzuki']\n",
            "['yamaha', 'suzuki']\n"
          ],
          "name": "stdout"
        }
      ]
    },
    {
      "cell_type": "markdown",
      "metadata": {
        "id": "dC5hDzl68ZhO",
        "colab_type": "text"
      },
      "source": [
        "### pop"
      ]
    },
    {
      "cell_type": "code",
      "metadata": {
        "id": "R36eQR-L8gYX",
        "colab_type": "code",
        "colab": {
          "base_uri": "https://localhost:8080/",
          "height": 68
        },
        "outputId": "f97a1697-6c63-44f9-c2d5-16b2ab3ecb74"
      },
      "source": [
        "motorcycles = ['honda', 'yamaha', 'suzuki']\n",
        "print(motorcycles)\n",
        "\n",
        "popped_motorcycle = motorcycles.pop()\n",
        "print(popped_motorcycle)\n",
        "\n",
        "print(motorcycles)"
      ],
      "execution_count": 28,
      "outputs": [
        {
          "output_type": "stream",
          "text": [
            "['honda', 'yamaha', 'suzuki']\n",
            "suzuki\n",
            "['honda', 'yamaha']\n"
          ],
          "name": "stdout"
        }
      ]
    },
    {
      "cell_type": "markdown",
      "metadata": {
        "id": "D7-8P_qL-GlP",
        "colab_type": "text"
      },
      "source": [
        "### remove"
      ]
    },
    {
      "cell_type": "code",
      "metadata": {
        "id": "e0eVUUx9-ITP",
        "colab_type": "code",
        "colab": {
          "base_uri": "https://localhost:8080/",
          "height": 51
        },
        "outputId": "b467d5eb-2283-4130-adda-dfc6cabf0490"
      },
      "source": [
        "motorcycles = ['honda', 'yamaha', 'suzuki', 'ducati']\n",
        "print(motorcycles)\n",
        "\n",
        "motorcycles.remove('ducati')\n",
        "print(motorcycles)"
      ],
      "execution_count": 29,
      "outputs": [
        {
          "output_type": "stream",
          "text": [
            "['honda', 'yamaha', 'suzuki', 'ducati']\n",
            "['honda', 'yamaha', 'suzuki']\n"
          ],
          "name": "stdout"
        }
      ]
    },
    {
      "cell_type": "markdown",
      "metadata": {
        "id": "2zxGFKDS-n7x",
        "colab_type": "text"
      },
      "source": [
        "### wow !"
      ]
    },
    {
      "cell_type": "code",
      "metadata": {
        "id": "VU7foWIN-UeY",
        "colab_type": "code",
        "colab": {
          "base_uri": "https://localhost:8080/",
          "height": 85
        },
        "outputId": "dd98b110-cfcb-45b9-e0c6-e574adcac966"
      },
      "source": [
        "motorcycles = ['honda', 'yamaha', 'suzuki', 'ducati']\n",
        "print(motorcycles)\n",
        "too_expensive = 'ducati'\n",
        "\n",
        "motorcycles.remove(too_expensive)\n",
        "print(motorcycles)\n",
        "\n",
        "print(\"\\nA \" + too_expensive.title() + \" is too expensive for me.\")"
      ],
      "execution_count": 30,
      "outputs": [
        {
          "output_type": "stream",
          "text": [
            "['honda', 'yamaha', 'suzuki', 'ducati']\n",
            "['honda', 'yamaha', 'suzuki']\n",
            "\n",
            "A Ducati is too expensive for me.\n"
          ],
          "name": "stdout"
        }
      ]
    }
  ]
}